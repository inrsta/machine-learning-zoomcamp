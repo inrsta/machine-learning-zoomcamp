{
 "cells": [
  {
   "cell_type": "code",
   "execution_count": 134,
   "metadata": {},
   "outputs": [],
   "source": [
    "import pandas as pd"
   ]
  },
  {
   "cell_type": "code",
   "execution_count": 135,
   "metadata": {},
   "outputs": [],
   "source": [
    "usedcars_df = pd.read_csv(r'data/data.csv')"
   ]
  },
  {
   "cell_type": "code",
   "execution_count": 136,
   "metadata": {},
   "outputs": [
    {
     "name": "stdout",
     "output_type": "stream",
     "text": [
      "<class 'pandas.core.frame.DataFrame'>\n",
      "RangeIndex: 251079 entries, 0 to 251078\n",
      "Data columns (total 15 columns):\n",
      " #   Column                    Non-Null Count   Dtype         \n",
      "---  ------                    --------------   -----         \n",
      " 0   Unnamed: 0                251079 non-null  int64         \n",
      " 1   brand                     251079 non-null  object        \n",
      " 2   model                     251079 non-null  object        \n",
      " 3   color                     250913 non-null  object        \n",
      " 4   registration_date         250882 non-null  datetime64[ns]\n",
      " 5   year                      251079 non-null  object        \n",
      " 6   price_in_euro             250880 non-null  float64       \n",
      " 7   power_kw                  250786 non-null  float64       \n",
      " 8   power_ps                  250869 non-null  float64       \n",
      " 9   transmission_type         251079 non-null  object        \n",
      " 10  fuel_type                 251079 non-null  object        \n",
      " 11  fuel_consumption_l_100km  224206 non-null  object        \n",
      " 12  fuel_consumption_g_km     251079 non-null  object        \n",
      " 13  mileage_in_km             250927 non-null  float64       \n",
      " 14  offer_description         251078 non-null  object        \n",
      "dtypes: datetime64[ns](1), float64(4), int64(1), object(9)\n",
      "memory usage: 28.7+ MB\n"
     ]
    },
    {
     "name": "stderr",
     "output_type": "stream",
     "text": [
      "/var/folders/22/4rkd_km14n587vm5mk020x800000gq/T/ipykernel_32478/4041750494.py:1: UserWarning: Could not infer format, so each element will be parsed individually, falling back to `dateutil`. To ensure parsing is consistent and as-expected, please specify a format.\n",
      "  usedcars_df['registration_date'] = pd.to_datetime(usedcars_df['registration_date'], errors='coerce')\n"
     ]
    }
   ],
   "source": [
    "usedcars_df['registration_date'] = pd.to_datetime(usedcars_df['registration_date'], errors='coerce')\n",
    "usedcars_df['price_in_euro'] = pd.to_numeric(usedcars_df['price_in_euro'], errors='coerce')\n",
    "usedcars_df['power_kw'] = pd.to_numeric(usedcars_df['power_kw'], errors='coerce')\n",
    "usedcars_df['power_ps'] = pd.to_numeric(usedcars_df['power_ps'], errors='coerce')\n",
    "usedcars_df['mileage_in_km'] = pd.to_numeric(usedcars_df['mileage_in_km'], errors='coerce')\n",
    "usedcars_df.info()"
   ]
  },
  {
   "cell_type": "code",
   "execution_count": 137,
   "metadata": {},
   "outputs": [
    {
     "data": {
      "text/html": [
       "<div>\n",
       "<style scoped>\n",
       "    .dataframe tbody tr th:only-of-type {\n",
       "        vertical-align: middle;\n",
       "    }\n",
       "\n",
       "    .dataframe tbody tr th {\n",
       "        vertical-align: top;\n",
       "    }\n",
       "\n",
       "    .dataframe thead th {\n",
       "        text-align: right;\n",
       "    }\n",
       "</style>\n",
       "<table border=\"1\" class=\"dataframe\">\n",
       "  <thead>\n",
       "    <tr style=\"text-align: right;\">\n",
       "      <th></th>\n",
       "      <th>brand</th>\n",
       "      <th>model</th>\n",
       "      <th>color</th>\n",
       "      <th>registration_date</th>\n",
       "      <th>year</th>\n",
       "      <th>price_in_euro</th>\n",
       "      <th>power_kw</th>\n",
       "      <th>power_ps</th>\n",
       "      <th>transmission_type</th>\n",
       "      <th>fuel_type</th>\n",
       "      <th>fuel_consumption_l_100km</th>\n",
       "      <th>fuel_consumption_g_km</th>\n",
       "      <th>mileage_in_km</th>\n",
       "      <th>offer_description</th>\n",
       "    </tr>\n",
       "  </thead>\n",
       "  <tbody>\n",
       "    <tr>\n",
       "      <th>0</th>\n",
       "      <td>alfa-romeo</td>\n",
       "      <td>Alfa Romeo GTV</td>\n",
       "      <td>red</td>\n",
       "      <td>1995-10-01</td>\n",
       "      <td>1995</td>\n",
       "      <td>1300.0</td>\n",
       "      <td>148.0</td>\n",
       "      <td>201.0</td>\n",
       "      <td>Manual</td>\n",
       "      <td>Petrol</td>\n",
       "      <td>10,9 l/100 km</td>\n",
       "      <td>260 g/km</td>\n",
       "      <td>160500.0</td>\n",
       "      <td>2.0 V6 TB</td>\n",
       "    </tr>\n",
       "    <tr>\n",
       "      <th>1</th>\n",
       "      <td>alfa-romeo</td>\n",
       "      <td>Alfa Romeo 164</td>\n",
       "      <td>black</td>\n",
       "      <td>1995-02-01</td>\n",
       "      <td>1995</td>\n",
       "      <td>24900.0</td>\n",
       "      <td>191.0</td>\n",
       "      <td>260.0</td>\n",
       "      <td>Manual</td>\n",
       "      <td>Petrol</td>\n",
       "      <td>NaN</td>\n",
       "      <td>- (g/km)</td>\n",
       "      <td>190000.0</td>\n",
       "      <td>Q4 Allrad, 3.2L GTA</td>\n",
       "    </tr>\n",
       "    <tr>\n",
       "      <th>2</th>\n",
       "      <td>alfa-romeo</td>\n",
       "      <td>Alfa Romeo Spider</td>\n",
       "      <td>black</td>\n",
       "      <td>1995-02-01</td>\n",
       "      <td>1995</td>\n",
       "      <td>5900.0</td>\n",
       "      <td>110.0</td>\n",
       "      <td>150.0</td>\n",
       "      <td>Unknown</td>\n",
       "      <td>Petrol</td>\n",
       "      <td>NaN</td>\n",
       "      <td>- (g/km)</td>\n",
       "      <td>129000.0</td>\n",
       "      <td>ALFA ROME 916</td>\n",
       "    </tr>\n",
       "    <tr>\n",
       "      <th>3</th>\n",
       "      <td>alfa-romeo</td>\n",
       "      <td>Alfa Romeo Spider</td>\n",
       "      <td>black</td>\n",
       "      <td>1995-07-01</td>\n",
       "      <td>1995</td>\n",
       "      <td>4900.0</td>\n",
       "      <td>110.0</td>\n",
       "      <td>150.0</td>\n",
       "      <td>Manual</td>\n",
       "      <td>Petrol</td>\n",
       "      <td>9,5 l/100 km</td>\n",
       "      <td>225 g/km</td>\n",
       "      <td>189500.0</td>\n",
       "      <td>2.0 16V Twin Spark L</td>\n",
       "    </tr>\n",
       "    <tr>\n",
       "      <th>4</th>\n",
       "      <td>alfa-romeo</td>\n",
       "      <td>Alfa Romeo 164</td>\n",
       "      <td>red</td>\n",
       "      <td>1996-11-01</td>\n",
       "      <td>1996</td>\n",
       "      <td>17950.0</td>\n",
       "      <td>132.0</td>\n",
       "      <td>179.0</td>\n",
       "      <td>Manual</td>\n",
       "      <td>Petrol</td>\n",
       "      <td>7,2 l/100 km</td>\n",
       "      <td>- (g/km)</td>\n",
       "      <td>96127.0</td>\n",
       "      <td>3.0i Super V6, absoluter Topzustand !</td>\n",
       "    </tr>\n",
       "  </tbody>\n",
       "</table>\n",
       "</div>"
      ],
      "text/plain": [
       "        brand              model  color registration_date  year  \\\n",
       "0  alfa-romeo     Alfa Romeo GTV    red        1995-10-01  1995   \n",
       "1  alfa-romeo     Alfa Romeo 164  black        1995-02-01  1995   \n",
       "2  alfa-romeo  Alfa Romeo Spider  black        1995-02-01  1995   \n",
       "3  alfa-romeo  Alfa Romeo Spider  black        1995-07-01  1995   \n",
       "4  alfa-romeo     Alfa Romeo 164    red        1996-11-01  1996   \n",
       "\n",
       "   price_in_euro  power_kw  power_ps transmission_type fuel_type  \\\n",
       "0         1300.0     148.0     201.0            Manual    Petrol   \n",
       "1        24900.0     191.0     260.0            Manual    Petrol   \n",
       "2         5900.0     110.0     150.0           Unknown    Petrol   \n",
       "3         4900.0     110.0     150.0            Manual    Petrol   \n",
       "4        17950.0     132.0     179.0            Manual    Petrol   \n",
       "\n",
       "  fuel_consumption_l_100km fuel_consumption_g_km  mileage_in_km  \\\n",
       "0            10,9 l/100 km              260 g/km       160500.0   \n",
       "1                      NaN              - (g/km)       190000.0   \n",
       "2                      NaN              - (g/km)       129000.0   \n",
       "3             9,5 l/100 km              225 g/km       189500.0   \n",
       "4             7,2 l/100 km              - (g/km)        96127.0   \n",
       "\n",
       "                       offer_description  \n",
       "0                              2.0 V6 TB  \n",
       "1                    Q4 Allrad, 3.2L GTA  \n",
       "2                          ALFA ROME 916  \n",
       "3                   2.0 16V Twin Spark L  \n",
       "4  3.0i Super V6, absoluter Topzustand !  "
      ]
     },
     "execution_count": 137,
     "metadata": {},
     "output_type": "execute_result"
    }
   ],
   "source": [
    "# Remove the first column as it seems to be useless\n",
    "\n",
    "usedcars_df = usedcars_df.drop(\"Unnamed: 0\", axis=1)\n",
    "\n",
    "usedcars_df.head()"
   ]
  },
  {
   "cell_type": "code",
   "execution_count": 138,
   "metadata": {},
   "outputs": [],
   "source": [
    "usedcars_df['fuel_consumption_l_100km'] = usedcars_df['fuel_consumption_l_100km'].fillna(0)"
   ]
  },
  {
   "cell_type": "code",
   "execution_count": 139,
   "metadata": {},
   "outputs": [
    {
     "name": "stdout",
     "output_type": "stream",
     "text": [
      "fuel_type\n",
      "Petrol      143280\n",
      "Diesel       86421\n",
      "Hybrid       12607\n",
      "Electric      5967\n",
      "LPG           1255\n",
      "             ...  \n",
      "08/2007          1\n",
      "07/2022          1\n",
      "07/2015          1\n",
      "07/2007          1\n",
      "119890           1\n",
      "Length: 136, dtype: int64\n"
     ]
    }
   ],
   "source": [
    "fuel_consumption_counts = usedcars_df.groupby(['fuel_type']).size()\n",
    "print(fuel_consumption_counts.sort_values(ascending=False))\n"
   ]
  },
  {
   "cell_type": "code",
   "execution_count": 140,
   "metadata": {},
   "outputs": [
    {
     "name": "stdout",
     "output_type": "stream",
     "text": [
      "mileage_in_km\n",
      "10.0         6982\n",
      "50.0         1533\n",
      "15.0         1216\n",
      "20.0         1208\n",
      "5.0          1107\n",
      "             ... \n",
      "60440.0         1\n",
      "60441.0         1\n",
      "60443.0         1\n",
      "60445.0         1\n",
      "3800000.0       1\n",
      "Length: 71766, dtype: int64\n"
     ]
    }
   ],
   "source": [
    "\n",
    "fuel_consumption_counts = usedcars_df.groupby(['mileage_in_km']).size()\n",
    "print(fuel_consumption_counts.sort_values(ascending=False))"
   ]
  },
  {
   "cell_type": "markdown",
   "metadata": {},
   "source": [
    "### I will keep only Petrol, Diesel and Hybrid cars since they are the most common types"
   ]
  },
  {
   "cell_type": "code",
   "execution_count": 141,
   "metadata": {},
   "outputs": [],
   "source": [
    "fuel_types_to_keep = [\"Petrol\", \"Diesel\", \"Hybrid\"]\n",
    "\n",
    "usedcars_df = usedcars_df[usedcars_df['fuel_type'].isin(fuel_types_to_keep)]"
   ]
  },
  {
   "cell_type": "code",
   "execution_count": 142,
   "metadata": {},
   "outputs": [
    {
     "name": "stdout",
     "output_type": "stream",
     "text": [
      "<class 'pandas.core.frame.DataFrame'>\n",
      "Index: 242308 entries, 0 to 251077\n",
      "Data columns (total 14 columns):\n",
      " #   Column                    Non-Null Count   Dtype         \n",
      "---  ------                    --------------   -----         \n",
      " 0   brand                     242308 non-null  object        \n",
      " 1   model                     242308 non-null  object        \n",
      " 2   color                     242154 non-null  object        \n",
      " 3   registration_date         242308 non-null  datetime64[ns]\n",
      " 4   year                      242308 non-null  object        \n",
      " 5   price_in_euro             242308 non-null  float64       \n",
      " 6   power_kw                  242207 non-null  float64       \n",
      " 7   power_ps                  242207 non-null  float64       \n",
      " 8   transmission_type         242308 non-null  object        \n",
      " 9   fuel_type                 242308 non-null  object        \n",
      " 10  fuel_consumption_l_100km  242308 non-null  object        \n",
      " 11  fuel_consumption_g_km     242308 non-null  object        \n",
      " 12  mileage_in_km             242269 non-null  float64       \n",
      " 13  offer_description         242308 non-null  object        \n",
      "dtypes: datetime64[ns](1), float64(4), object(9)\n",
      "memory usage: 27.7+ MB\n"
     ]
    }
   ],
   "source": [
    "usedcars_df.info()"
   ]
  },
  {
   "cell_type": "code",
   "execution_count": 143,
   "metadata": {},
   "outputs": [
    {
     "name": "stdout",
     "output_type": "stream",
     "text": [
      "['1995', '1996', '1997', '1998', '1999', '2000', '2001', '2002', '2003', '2004', '2005', '2006', '2007', '2008', '2009', '2010', '2011', '2012', '2013', '2014', '2015', '2016', '2017', '2018', '2019', '2020', '2021', '2022', '2023']\n"
     ]
    }
   ],
   "source": [
    "all_years = usedcars_df[\"year\"].unique()\n",
    "all_years = list(all_years)\n",
    "print(all_years)"
   ]
  },
  {
   "cell_type": "code",
   "execution_count": 144,
   "metadata": {},
   "outputs": [
    {
     "name": "stdout",
     "output_type": "stream",
     "text": [
      "['10,9 l/100 km', 0, '9,5 l/100 km', '7,2 l/100 km', '8,8 l/100 km', '13,4 l/100 km', '11 l/100 km', '9,2 l/100 km', '11,1 l/100 km', '11,7 l/100 km', '8,4 l/100 km', '8,2 l/100 km', '8,9 l/100 km', '11,4 l/100 km', '8,5 l/100 km', '8,3 l/100 km', '7,9 l/100 km', '8,7 l/100 km', '8,1 l/100 km', '12,2 l/100 km', '12 l/100 km', '5,8 l/100 km', '10 l/100 km', '6,7 l/100 km', '8,6 l/100 km', '12,5 l/100 km', '9,7 l/100 km', '12,1 l/100 km', '8 l/100 km', '7,5 l/100 km', '6,2 l/100 km', '13,2 l/100 km', '6 l/100 km', '12,4 l/100 km', '6,8 l/100 km', '9,4 l/100 km', '6,1 l/100 km', '5,9 l/100 km', '11,5 l/100 km', '11,6 l/100 km', '7,6 l/100 km', '5,2 l/100 km', '7,1 l/100 km', '6,9 l/100 km', '12,3 l/100 km', '6,5 l/100 km', '7,7 l/100 km', '4,6 l/100 km', '4,8 l/100 km', '4,5 l/100 km', '5,3 l/100 km', '6,4 l/100 km', '4,9 l/100 km', '6,6 l/100 km', '5,5 l/100 km', '5,4 l/100 km', '5,6 l/100 km', '16,8 l/100 km', '5,7 l/100 km', '3,5 l/100 km', '4,4 l/100 km', '4,7 l/100 km', '4 l/100 km', '4,2 l/100 km', '- (l/100 km)', '7 l/100 km', '4,3 l/100 km', '5,1 l/100 km', '3,4 l/100 km', '3,9 l/100 km', '3,8 l/100 km', '9 l/100 km', '9,8 l/100 km', '10,3 l/100 km', '7,4 l/100 km', '7,8 l/100 km', '6,3 l/100 km', '10,1 l/100 km', '5 l/100 km', '9,3 l/100 km', '7,3 l/100 km', '10,8 l/100 km', '0 l/100 km', '11,8 l/100 km', '1,3 l/100 km', '1,4 l/100 km', '9,1 l/100 km', '9,6 l/100 km', '10,2 l/100 km', '1,5 l/100 km', '12,7 l/100 km', '16,5 l/100 km', '14,7 l/100 km', '16,7 l/100 km', '18,8 l/100 km', '14,6 l/100 km', '17,8 l/100 km', '17,2 l/100 km', '18,9 l/100 km', '15 l/100 km', '13,8 l/100 km', '18,7 l/100 km', '16,4 l/100 km', '15,6 l/100 km', '18,2 l/100 km', '18 l/100 km', '14 l/100 km', '14,9 l/100 km', '13,9 l/100 km', '15,5 l/100 km', '12,6 l/100 km', '14,4 l/100 km', '12,9 l/100 km', '14,3 l/100 km', '17 l/100 km', '12,8 l/100 km', '13,1 l/100 km', '9,9 l/100 km', '10,5 l/100 km', '14,2 l/100 km', '13,5 l/100 km', '10,6 l/100 km', '16,9 l/100 km', '11,2 l/100 km', '10,7 l/100 km', '11,3 l/100 km', '19,9 l/100 km', '10,4 l/100 km', '13,7 l/100 km', '11,9 l/100 km', '3,2 l/100 km', '14,5 l/100 km', '14,8 l/100 km', '13,3 l/100 km', '13 l/100 km', '13,6 l/100 km', '4,1 l/100 km', '3,7 l/100 km', '3,3 l/100 km', '1,7 l/100 km', '1,9 l/100 km', '3,6 l/100 km', '1,8 l/100 km', '1,6 l/100 km', '1 l/100 km', '2,1 l/100 km', '2,2 l/100 km', '2,4 l/100 km', '2 l/100 km', '3 l/100 km', '50 km (Ort)', '21,2 l/100 km', '2,7 l/100 km', '2,6 l/100 km', '19,4 l/100 km', '0,4 l/100 km', '19,2 l/100 km', '20,6 l/100 km', '16,6 l/100 km', '17,1 l/100 km', '19,5 l/100 km', '17,7 l/100 km', '16,3 l/100 km', '15,9 l/100 km', '14,1 l/100 km', '141 l/100 km', '15,7 l/100 km', '16,2 l/100 km', '15,2 l/100 km', '99 l/100 km', '0,6 l/100 km', '2,8 l/100 km', '1,2 l/100 km', '2,5 l/100 km', '2,3 l/100 km', '66,4 l/100 km', '19 l/100 km', '106 km (Ort)', '73 l/100 km', '38 l/100 km', '3,1 l/100 km', '45 l/100 km', '69 km (Ort)', '62 l/100 km', '15,3 l/100 km', '21 l/100 km', '22,2 l/100 km', '22,9 l/100 km', '20,8 l/100 km', '17,9 l/100 km', '19,1 l/100 km', '21,8 l/100 km', '20,7 l/100 km', '18,3 l/100 km', '21,3 l/100 km', '17,5 l/100 km', '16,1 l/100 km', '15,1 l/100 km', '88 l/100 km', '65 l/100 km', '66 l/100 km', '4.300 l/100 km', '15,8 l/100 km', '22 l/100 km', '99,9 l/100 km', '85,4 l/100 km', '2,9 l/100 km', '60 km (Ort)', '45 km (Ort)', '71 km (Ort)', '44 km (Ort)', '1,1 l/100 km', '75 km (Ort)', '119 l/100 km', '42 km (Ort)', '51,8 l/100 km', '41 l/100 km', '62 km (Ort)', '74 km (Ort)', '66 km (Ort)', '53 l/100 km', '53 km (Ort)', '52 km (Ort)', '54 km (Ort)', '0 kWh/100 km', '56 km (Ort)', '55 km (Ort)', '58 km (Ort)', '76 km (Ort)', '57 km (Ort)', '0,8 l/100 km', '60 l/100 km', '52 l/100 km', '21,5 l/100 km', '16 l/100 km', '19,6 l/100 km', '20,1 l/100 km', '18,4 l/100 km', '31,4 l/100 km', '0,9 l/100 km', '68 km (Ort)', '18,1 l/100 km', '18,6 l/100 km', '21,9 l/100 km', '15,4 l/100 km', '0,1 l/100 km', '0,7 l/100 km', '0,5 l/100 km', '34 km (Ort)', '152 l/100 km', '61 km (Ort)', '98,4 l/100 km', '59 l/100 km', '57 l/100 km', '73 km (Ort)', '70 km (Ort)', '80 km (Ort)', '116 l/100 km', '107 l/100 km', '67 km (Ort)', '120 l/100 km', '131 l/100 km', '147 l/100 km', '173 l/100 km', '132 l/100 km', '130 l/100 km', '138 l/100 km', '3,4 kg/100 km', '134 l/100 km', '3,5 kg/100 km', '56 l/100 km', '133 l/100 km', '123 l/100 km', '125 l/100 km', '7,1 kg/100 km', '3,3 kg/100 km', '122 l/100 km', '171 l/100 km', '55 l/100 km', '59 km (Ort)', '49 l/100 km', '98 km (Ort)', '30 l/100 km', '26 l/100 km', '61 l/100 km', '36 l/100 km', '146 l/100 km', '3,6 kg/100 km', '143 l/100 km', '0,2 l/100 km', '49 km (Ort)', '48 km (Ort)', '46 km (Ort)', '51 km (Ort)', '22,6 l/100 km', '92 km (Ort)', '93 km (Ort)']\n"
     ]
    }
   ],
   "source": [
    "all_fuel_consumptions = usedcars_df[\"fuel_consumption_l_100km\"].unique()\n",
    "all_fuel_consumptions = list(all_fuel_consumptions)\n",
    "print(all_fuel_consumptions)"
   ]
  },
  {
   "cell_type": "code",
   "execution_count": 145,
   "metadata": {},
   "outputs": [
    {
     "name": "stdout",
     "output_type": "stream",
     "text": [
      "Percentage of rows that have the correct format: 91.36%\n"
     ]
    }
   ],
   "source": [
    "# Create a mask for rows that contain 'l/100 km' in 'fuel_consumption_l_100km'\n",
    "mask = usedcars_df['fuel_consumption_l_100km'].astype(str).str.contains('l/100 km')\n",
    "\n",
    "# Filter the DataFrame to keep only rows that meet the condition\n",
    "filtered_df = usedcars_df[mask]\n",
    "\n",
    "# Calculate the percentage of rows with the correct format\n",
    "pct_of_correct_format = len(filtered_df) / len(usedcars_df) * 100\n",
    "\n",
    "print(f'Percentage of rows that have the correct format: {pct_of_correct_format:.2f}%')"
   ]
  },
  {
   "cell_type": "code",
   "execution_count": 146,
   "metadata": {},
   "outputs": [
    {
     "data": {
      "text/html": [
       "<div>\n",
       "<style scoped>\n",
       "    .dataframe tbody tr th:only-of-type {\n",
       "        vertical-align: middle;\n",
       "    }\n",
       "\n",
       "    .dataframe tbody tr th {\n",
       "        vertical-align: top;\n",
       "    }\n",
       "\n",
       "    .dataframe thead th {\n",
       "        text-align: right;\n",
       "    }\n",
       "</style>\n",
       "<table border=\"1\" class=\"dataframe\">\n",
       "  <thead>\n",
       "    <tr style=\"text-align: right;\">\n",
       "      <th></th>\n",
       "      <th>brand</th>\n",
       "      <th>model</th>\n",
       "      <th>color</th>\n",
       "      <th>registration_date</th>\n",
       "      <th>year</th>\n",
       "      <th>price_in_euro</th>\n",
       "      <th>power_kw</th>\n",
       "      <th>power_ps</th>\n",
       "      <th>transmission_type</th>\n",
       "      <th>fuel_type</th>\n",
       "      <th>fuel_consumption_l_100km</th>\n",
       "      <th>fuel_consumption_g_km</th>\n",
       "      <th>mileage_in_km</th>\n",
       "      <th>offer_description</th>\n",
       "    </tr>\n",
       "  </thead>\n",
       "  <tbody>\n",
       "    <tr>\n",
       "      <th>0</th>\n",
       "      <td>alfa-romeo</td>\n",
       "      <td>Alfa Romeo GTV</td>\n",
       "      <td>red</td>\n",
       "      <td>1995-10-01</td>\n",
       "      <td>1995</td>\n",
       "      <td>1300.0</td>\n",
       "      <td>148.0</td>\n",
       "      <td>201.0</td>\n",
       "      <td>Manual</td>\n",
       "      <td>Petrol</td>\n",
       "      <td>10.9</td>\n",
       "      <td>260 g/km</td>\n",
       "      <td>160500.0</td>\n",
       "      <td>2.0 V6 TB</td>\n",
       "    </tr>\n",
       "    <tr>\n",
       "      <th>3</th>\n",
       "      <td>alfa-romeo</td>\n",
       "      <td>Alfa Romeo Spider</td>\n",
       "      <td>black</td>\n",
       "      <td>1995-07-01</td>\n",
       "      <td>1995</td>\n",
       "      <td>4900.0</td>\n",
       "      <td>110.0</td>\n",
       "      <td>150.0</td>\n",
       "      <td>Manual</td>\n",
       "      <td>Petrol</td>\n",
       "      <td>9.5</td>\n",
       "      <td>225 g/km</td>\n",
       "      <td>189500.0</td>\n",
       "      <td>2.0 16V Twin Spark L</td>\n",
       "    </tr>\n",
       "    <tr>\n",
       "      <th>4</th>\n",
       "      <td>alfa-romeo</td>\n",
       "      <td>Alfa Romeo 164</td>\n",
       "      <td>red</td>\n",
       "      <td>1996-11-01</td>\n",
       "      <td>1996</td>\n",
       "      <td>17950.0</td>\n",
       "      <td>132.0</td>\n",
       "      <td>179.0</td>\n",
       "      <td>Manual</td>\n",
       "      <td>Petrol</td>\n",
       "      <td>7.2</td>\n",
       "      <td>- (g/km)</td>\n",
       "      <td>96127.0</td>\n",
       "      <td>3.0i Super V6, absoluter Topzustand !</td>\n",
       "    </tr>\n",
       "    <tr>\n",
       "      <th>5</th>\n",
       "      <td>alfa-romeo</td>\n",
       "      <td>Alfa Romeo Spider</td>\n",
       "      <td>red</td>\n",
       "      <td>1996-04-01</td>\n",
       "      <td>1996</td>\n",
       "      <td>7900.0</td>\n",
       "      <td>110.0</td>\n",
       "      <td>150.0</td>\n",
       "      <td>Manual</td>\n",
       "      <td>Petrol</td>\n",
       "      <td>9.5</td>\n",
       "      <td>225 g/km</td>\n",
       "      <td>47307.0</td>\n",
       "      <td>2.0 16V Twin Spark</td>\n",
       "    </tr>\n",
       "    <tr>\n",
       "      <th>6</th>\n",
       "      <td>alfa-romeo</td>\n",
       "      <td>Alfa Romeo 145</td>\n",
       "      <td>red</td>\n",
       "      <td>1996-12-01</td>\n",
       "      <td>1996</td>\n",
       "      <td>3500.0</td>\n",
       "      <td>110.0</td>\n",
       "      <td>150.0</td>\n",
       "      <td>Manual</td>\n",
       "      <td>Petrol</td>\n",
       "      <td>8.8</td>\n",
       "      <td>210 g/km</td>\n",
       "      <td>230000.0</td>\n",
       "      <td>Quadrifoglio</td>\n",
       "    </tr>\n",
       "  </tbody>\n",
       "</table>\n",
       "</div>"
      ],
      "text/plain": [
       "        brand              model  color registration_date  year  \\\n",
       "0  alfa-romeo     Alfa Romeo GTV    red        1995-10-01  1995   \n",
       "3  alfa-romeo  Alfa Romeo Spider  black        1995-07-01  1995   \n",
       "4  alfa-romeo     Alfa Romeo 164    red        1996-11-01  1996   \n",
       "5  alfa-romeo  Alfa Romeo Spider    red        1996-04-01  1996   \n",
       "6  alfa-romeo     Alfa Romeo 145    red        1996-12-01  1996   \n",
       "\n",
       "   price_in_euro  power_kw  power_ps transmission_type fuel_type  \\\n",
       "0         1300.0     148.0     201.0            Manual    Petrol   \n",
       "3         4900.0     110.0     150.0            Manual    Petrol   \n",
       "4        17950.0     132.0     179.0            Manual    Petrol   \n",
       "5         7900.0     110.0     150.0            Manual    Petrol   \n",
       "6         3500.0     110.0     150.0            Manual    Petrol   \n",
       "\n",
       "   fuel_consumption_l_100km fuel_consumption_g_km  mileage_in_km  \\\n",
       "0                      10.9              260 g/km       160500.0   \n",
       "3                       9.5              225 g/km       189500.0   \n",
       "4                       7.2              - (g/km)        96127.0   \n",
       "5                       9.5              225 g/km        47307.0   \n",
       "6                       8.8              210 g/km       230000.0   \n",
       "\n",
       "                       offer_description  \n",
       "0                              2.0 V6 TB  \n",
       "3                   2.0 16V Twin Spark L  \n",
       "4  3.0i Super V6, absoluter Topzustand !  \n",
       "5                     2.0 16V Twin Spark  \n",
       "6                           Quadrifoglio  "
      ]
     },
     "execution_count": 146,
     "metadata": {},
     "output_type": "execute_result"
    }
   ],
   "source": [
    "usedcars_df = filtered_df\n",
    "\n",
    "# Remove 'l/100 km' from the 'fuel_consumption_l_100km' column\n",
    "usedcars_df['fuel_consumption_l_100km'] = usedcars_df['fuel_consumption_l_100km'].str.replace(' l/100 km', '', regex=False)\n",
    "usedcars_df['fuel_consumption_l_100km'] = usedcars_df['fuel_consumption_l_100km'].str.replace(',', '.', regex=False)\n",
    "usedcars_df['fuel_consumption_l_100km'] = usedcars_df['fuel_consumption_l_100km'].replace('- (l/100 km)', 0)\n",
    "\n",
    "# Convert the column to float\n",
    "usedcars_df['fuel_consumption_l_100km'] = usedcars_df['fuel_consumption_l_100km'].astype(float)\n",
    "\n",
    "# Display the DataFrame to confirm changes\n",
    "usedcars_df.head()"
   ]
  },
  {
   "cell_type": "code",
   "execution_count": 147,
   "metadata": {},
   "outputs": [],
   "source": [
    "import numpy as np\n",
    "import matplotlib.pyplot as plt\n",
    "\n",
    "def plot_histogram(column, df, bins=50, remove_outliers=False, log_transform=False):\n",
    "    data = df[column]\n",
    "\n",
    "    if remove_outliers:\n",
    "        # Removing the top 1% as an example\n",
    "        quantile_limit = data.quantile(0.99)\n",
    "        data = data[data <= quantile_limit]\n",
    "\n",
    "    if log_transform and data.min() > 0:\n",
    "        # Apply log transformation if the data is suitable (no zero or negative values)\n",
    "        data = np.log(data)\n",
    "\n",
    "    data.plot(kind='hist', bins=bins)\n",
    "    plt.title(f'Histogram of {column}' + (' (Log Transformed)' if log_transform else ''))\n",
    "    plt.xlabel(column)\n",
    "    plt.ylabel('Frequency')\n",
    "    plt.show()"
   ]
  },
  {
   "cell_type": "code",
   "execution_count": 148,
   "metadata": {},
   "outputs": [
    {
     "data": {
      "image/png": "[encoded data removed]",
      "text/plain": [
       "<Figure size 640x480 with 1 Axes>"
      ]
     },
     "metadata": {},
     "output_type": "display_data"
    },
    {
     "data": {
      "image/png": "[encoded data removed]",
      "text/plain": [
       "<Figure size 640x480 with 1 Axes>"
      ]
     },
     "metadata": {},
     "output_type": "display_data"
    },
    {
     "data": {
      "image/png": "[encoded data removed]",
      "text/plain": [
       "<Figure size 640x480 with 1 Axes>"
      ]
     },
     "metadata": {},
     "output_type": "display_data"
    },
    {
     "data": {
      "image/png": "[encoded data removed]",
      "text/plain": [
       "<Figure size 640x480 with 1 Axes>"
      ]
     },
     "metadata": {},
     "output_type": "display_data"
    },
    {
     "data": {
      "image/png": "[encoded data removed]",
      "text/plain": [
       "<Figure size 640x480 with 1 Axes>"
      ]
     },
     "metadata": {},
     "output_type": "display_data"
    }
   ],
   "source": [
    "# Loop through each column in the DataFrame\n",
    "for column in usedcars_df.columns:\n",
    "    # Check if the column is of float type\n",
    "    if usedcars_df[column].dtype == 'float64':\n",
    "        plot_histogram(column, usedcars_df, remove_outliers=True, log_transform=False)\n"
   ]
  },
  {
   "cell_type": "markdown",
   "metadata": {},
   "source": [
    "### Remove rows that have 0 kms for the column \"mileage_in_km\""
   ]
  },
  {
   "cell_type": "code",
   "execution_count": 149,
   "metadata": {},
   "outputs": [],
   "source": [
    "# Remove rows where mileage_in_km is 0\n",
    "usedcars_df = usedcars_df[usedcars_df['mileage_in_km'] != 0]"
   ]
  },
  {
   "cell_type": "code",
   "execution_count": 150,
   "metadata": {},
   "outputs": [
    {
     "name": "stdout",
     "output_type": "stream",
     "text": [
      "['price_in_euro', 'power_kw', 'power_ps', 'fuel_consumption_l_100km', 'mileage_in_km']\n"
     ]
    }
   ],
   "source": [
    "numerical_columns = []\n",
    "\n",
    "for column in usedcars_df.columns:\n",
    "    # Check if the column is of float type\n",
    "    if usedcars_df[column].dtype == 'float64':\n",
    "        numerical_columns.append(column)\n",
    "print(numerical_columns)"
   ]
  },
  {
   "cell_type": "code",
   "execution_count": 151,
   "metadata": {},
   "outputs": [
    {
     "data": {
      "text/html": [
       "<div>\n",
       "<style scoped>\n",
       "    .dataframe tbody tr th:only-of-type {\n",
       "        vertical-align: middle;\n",
       "    }\n",
       "\n",
       "    .dataframe tbody tr th {\n",
       "        vertical-align: top;\n",
       "    }\n",
       "\n",
       "    .dataframe thead th {\n",
       "        text-align: right;\n",
       "    }\n",
       "</style>\n",
       "<table border=\"1\" class=\"dataframe\">\n",
       "  <thead>\n",
       "    <tr style=\"text-align: right;\">\n",
       "      <th></th>\n",
       "      <th>price_in_euro</th>\n",
       "      <th>power_kw</th>\n",
       "      <th>power_ps</th>\n",
       "      <th>fuel_consumption_l_100km</th>\n",
       "      <th>mileage_in_km</th>\n",
       "    </tr>\n",
       "  </thead>\n",
       "  <tbody>\n",
       "    <tr>\n",
       "      <th>price_in_euro</th>\n",
       "      <td>1.000000</td>\n",
       "      <td>0.607143</td>\n",
       "      <td>0.607213</td>\n",
       "      <td>0.256336</td>\n",
       "      <td>-0.281552</td>\n",
       "    </tr>\n",
       "    <tr>\n",
       "      <th>power_kw</th>\n",
       "      <td>0.607143</td>\n",
       "      <td>1.000000</td>\n",
       "      <td>0.999995</td>\n",
       "      <td>0.441546</td>\n",
       "      <td>-0.038660</td>\n",
       "    </tr>\n",
       "    <tr>\n",
       "      <th>power_ps</th>\n",
       "      <td>0.607213</td>\n",
       "      <td>0.999995</td>\n",
       "      <td>1.000000</td>\n",
       "      <td>0.441487</td>\n",
       "      <td>-0.038767</td>\n",
       "    </tr>\n",
       "    <tr>\n",
       "      <th>fuel_consumption_l_100km</th>\n",
       "      <td>0.256336</td>\n",
       "      <td>0.441546</td>\n",
       "      <td>0.441487</td>\n",
       "      <td>1.000000</td>\n",
       "      <td>0.087976</td>\n",
       "    </tr>\n",
       "    <tr>\n",
       "      <th>mileage_in_km</th>\n",
       "      <td>-0.281552</td>\n",
       "      <td>-0.038660</td>\n",
       "      <td>-0.038767</td>\n",
       "      <td>0.087976</td>\n",
       "      <td>1.000000</td>\n",
       "    </tr>\n",
       "  </tbody>\n",
       "</table>\n",
       "</div>"
      ],
      "text/plain": [
       "                          price_in_euro  power_kw  power_ps  \\\n",
       "price_in_euro                  1.000000  0.607143  0.607213   \n",
       "power_kw                       0.607143  1.000000  0.999995   \n",
       "power_ps                       0.607213  0.999995  1.000000   \n",
       "fuel_consumption_l_100km       0.256336  0.441546  0.441487   \n",
       "mileage_in_km                 -0.281552 -0.038660 -0.038767   \n",
       "\n",
       "                          fuel_consumption_l_100km  mileage_in_km  \n",
       "price_in_euro                             0.256336      -0.281552  \n",
       "power_kw                                  0.441546      -0.038660  \n",
       "power_ps                                  0.441487      -0.038767  \n",
       "fuel_consumption_l_100km                  1.000000       0.087976  \n",
       "mileage_in_km                             0.087976       1.000000  "
      ]
     },
     "execution_count": 151,
     "metadata": {},
     "output_type": "execute_result"
    }
   ],
   "source": [
    "correlation_matrix = usedcars_df[numerical_columns].corr()\n",
    "correlation_matrix"
   ]
  },
  {
   "cell_type": "code",
   "execution_count": 152,
   "metadata": {},
   "outputs": [
    {
     "name": "stdout",
     "output_type": "stream",
     "text": [
      "<class 'pandas.core.frame.DataFrame'>\n",
      "Index: 221199 entries, 0 to 251076\n",
      "Data columns (total 14 columns):\n",
      " #   Column                    Non-Null Count   Dtype         \n",
      "---  ------                    --------------   -----         \n",
      " 0   brand                     221199 non-null  object        \n",
      " 1   model                     221199 non-null  object        \n",
      " 2   color                     221055 non-null  object        \n",
      " 3   registration_date         221199 non-null  datetime64[ns]\n",
      " 4   year                      221199 non-null  object        \n",
      " 5   price_in_euro             221199 non-null  float64       \n",
      " 6   power_kw                  221124 non-null  float64       \n",
      " 7   power_ps                  221124 non-null  float64       \n",
      " 8   transmission_type         221199 non-null  object        \n",
      " 9   fuel_type                 221199 non-null  object        \n",
      " 10  fuel_consumption_l_100km  221199 non-null  float64       \n",
      " 11  fuel_consumption_g_km     221199 non-null  object        \n",
      " 12  mileage_in_km             221161 non-null  float64       \n",
      " 13  offer_description         221199 non-null  object        \n",
      "dtypes: datetime64[ns](1), float64(5), object(8)\n",
      "memory usage: 25.3+ MB\n"
     ]
    }
   ],
   "source": [
    "usedcars_df.info()"
   ]
  },
  {
   "cell_type": "code",
   "execution_count": 153,
   "metadata": {},
   "outputs": [
    {
     "name": "stderr",
     "output_type": "stream",
     "text": [
      "/var/folders/22/4rkd_km14n587vm5mk020x800000gq/T/ipykernel_32478/2590727564.py:2: SettingWithCopyWarning: \n",
      "A value is trying to be set on a copy of a slice from a DataFrame.\n",
      "Try using .loc[row_indexer,col_indexer] = value instead\n",
      "\n",
      "See the caveats in the documentation: https://pandas.pydata.org/pandas-docs/stable/user_guide/indexing.html#returning-a-view-versus-a-copy\n",
      "  usedcars_df['power_kw'] = usedcars_df['power_kw'].fillna(usedcars_df['power_kw'].median())\n",
      "/var/folders/22/4rkd_km14n587vm5mk020x800000gq/T/ipykernel_32478/2590727564.py:3: SettingWithCopyWarning: \n",
      "A value is trying to be set on a copy of a slice from a DataFrame.\n",
      "Try using .loc[row_indexer,col_indexer] = value instead\n",
      "\n",
      "See the caveats in the documentation: https://pandas.pydata.org/pandas-docs/stable/user_guide/indexing.html#returning-a-view-versus-a-copy\n",
      "  usedcars_df['mileage_in_km'] = usedcars_df['mileage_in_km'].fillna(usedcars_df['mileage_in_km'].median())\n",
      "/var/folders/22/4rkd_km14n587vm5mk020x800000gq/T/ipykernel_32478/2590727564.py:6: SettingWithCopyWarning: \n",
      "A value is trying to be set on a copy of a slice from a DataFrame.\n",
      "Try using .loc[row_indexer,col_indexer] = value instead\n",
      "\n",
      "See the caveats in the documentation: https://pandas.pydata.org/pandas-docs/stable/user_guide/indexing.html#returning-a-view-versus-a-copy\n",
      "  usedcars_df['color'] = usedcars_df['color'].fillna('Unknown')\n"
     ]
    }
   ],
   "source": [
    "# For numerical columns\n",
    "usedcars_df['power_kw'] = usedcars_df['power_kw'].fillna(usedcars_df['power_kw'].median())\n",
    "usedcars_df['mileage_in_km'] = usedcars_df['mileage_in_km'].fillna(usedcars_df['mileage_in_km'].median())\n",
    "\n",
    "# For categorical columns\n",
    "usedcars_df['color'] = usedcars_df['color'].fillna('Unknown')"
   ]
  },
  {
   "cell_type": "code",
   "execution_count": 154,
   "metadata": {},
   "outputs": [
    {
     "name": "stdout",
     "output_type": "stream",
     "text": [
      "brand                       0.000000\n",
      "model                       0.000000\n",
      "color                       0.000000\n",
      "registration_date           0.000000\n",
      "year                        0.000000\n",
      "price_in_euro               0.000000\n",
      "power_kw                    0.000000\n",
      "power_ps                    0.033906\n",
      "transmission_type           0.000000\n",
      "fuel_type                   0.000000\n",
      "fuel_consumption_l_100km    0.000000\n",
      "fuel_consumption_g_km       0.000000\n",
      "mileage_in_km               0.000000\n",
      "offer_description           0.000000\n",
      "dtype: float64\n"
     ]
    }
   ],
   "source": [
    "nan_percentage = (usedcars_df.isna().sum() / len(usedcars_df)) * 100\n",
    "print(nan_percentage)"
   ]
  },
  {
   "cell_type": "code",
   "execution_count": 155,
   "metadata": {},
   "outputs": [
    {
     "name": "stderr",
     "output_type": "stream",
     "text": [
      "/var/folders/22/4rkd_km14n587vm5mk020x800000gq/T/ipykernel_32478/2047706967.py:1: SettingWithCopyWarning: \n",
      "A value is trying to be set on a copy of a slice from a DataFrame\n",
      "\n",
      "See the caveats in the documentation: https://pandas.pydata.org/pandas-docs/stable/user_guide/indexing.html#returning-a-view-versus-a-copy\n",
      "  usedcars_df['power_ps'].fillna(usedcars_df['power_ps'].mean(), inplace=True)\n"
     ]
    }
   ],
   "source": [
    "usedcars_df['power_ps'].fillna(usedcars_df['power_ps'].mean(), inplace=True)\n"
   ]
  },
  {
   "cell_type": "code",
   "execution_count": 157,
   "metadata": {},
   "outputs": [
    {
     "name": "stdout",
     "output_type": "stream",
     "text": [
      "brand                       0.0\n",
      "model                       0.0\n",
      "color                       0.0\n",
      "registration_date           0.0\n",
      "year                        0.0\n",
      "price_in_euro               0.0\n",
      "power_kw                    0.0\n",
      "power_ps                    0.0\n",
      "transmission_type           0.0\n",
      "fuel_type                   0.0\n",
      "fuel_consumption_l_100km    0.0\n",
      "fuel_consumption_g_km       0.0\n",
      "mileage_in_km               0.0\n",
      "offer_description           0.0\n",
      "dtype: float64\n"
     ]
    }
   ],
   "source": [
    "nan_percentage = (usedcars_df.isna().sum() / len(usedcars_df)) * 100\n",
    "print(nan_percentage)"
   ]
  },
  {
   "cell_type": "code",
   "execution_count": 159,
   "metadata": {},
   "outputs": [],
   "source": [
    "usedcars_df.to_parquet(r'data/transformed_data.parquet', engine='fastparquet')"
   ]
  }
 ],
 "metadata": {
  "kernelspec": {
   "display_name": "mlzoomcamp",
   "language": "python",
   "name": "python3"
  },
  "language_info": {
   "codemirror_mode": {
    "name": "ipython",
    "version": 3
   },
   "file_extension": ".py",
   "mimetype": "text/x-python",
   "name": "python",
   "nbconvert_exporter": "python",
   "pygments_lexer": "ipython3",
   "version": "3.10.13"
  }
 },
 "nbformat": 4,
 "nbformat_minor": 2
}
