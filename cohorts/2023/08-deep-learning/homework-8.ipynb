{
 "cells": [
  {
   "cell_type": "code",
   "execution_count": 7,
   "metadata": {},
   "outputs": [
    {
     "name": "stderr",
     "output_type": "stream",
     "text": [
      "WARNING:absl:At this time, the v2.11+ optimizer `tf.keras.optimizers.SGD` runs slowly on M1/M2 Macs, please use the legacy Keras optimizer instead, located at `tf.keras.optimizers.legacy.SGD`.\n"
     ]
    },
    {
     "name": "stdout",
     "output_type": "stream",
     "text": [
      "Model: \"sequential\"\n",
      "_________________________________________________________________\n",
      " Layer (type)                Output Shape              Param #   \n",
      "=================================================================\n",
      " conv2d (Conv2D)             (None, 148, 148, 32)      896       \n",
      "                                                                 \n",
      " max_pooling2d (MaxPooling2  (None, 74, 74, 32)        0         \n",
      " D)                                                              \n",
      "                                                                 \n",
      " flatten (Flatten)           (None, 175232)            0         \n",
      "                                                                 \n",
      " dense (Dense)               (None, 64)                11214912  \n",
      "                                                                 \n",
      " dense_1 (Dense)             (None, 1)                 65        \n",
      "                                                                 \n",
      "=================================================================\n",
      "Total params: 11215873 (42.79 MB)\n",
      "Trainable params: 11215873 (42.79 MB)\n",
      "Non-trainable params: 0 (0.00 Byte)\n",
      "_________________________________________________________________\n"
     ]
    }
   ],
   "source": [
    "from keras.models import Sequential\n",
    "from keras.layers import Conv2D, MaxPooling2D, Flatten, Dense\n",
    "from keras.optimizers import SGD\n",
    "\n",
    "# Initialize the model\n",
    "model = Sequential()\n",
    "\n",
    "# Add a convolutional layer\n",
    "model.add(Conv2D(32, (3, 3), activation='relu', input_shape=(150, 150, 3)))\n",
    "\n",
    "# Add max pooling layer\n",
    "model.add(MaxPooling2D(pool_size=(2, 2)))\n",
    "\n",
    "# Flatten the output of the pooling to feed into a dense layer\n",
    "model.add(Flatten())\n",
    "\n",
    "# Add a densely-connected layer with 64 neurons\n",
    "model.add(Dense(64, activation='relu'))\n",
    "\n",
    "# Add the output layer with 1 neuron for binary classification\n",
    "model.add(Dense(1, activation='sigmoid'))\n",
    "\n",
    "# Compile the model with SGD optimizer\n",
    "optimizer = SGD(learning_rate=0.002, momentum=0.8)\n",
    "model.compile(optimizer=optimizer, loss='binary_crossentropy', metrics=['accuracy'])\n",
    "\n",
    "# Model summary\n",
    "model.summary()"
   ]
  },
  {
   "cell_type": "code",
   "execution_count": 8,
   "metadata": {},
   "outputs": [
    {
     "name": "stdout",
     "output_type": "stream",
     "text": [
      "Found 3677 images belonging to 2 classes.\n",
      "Found 918 images belonging to 2 classes.\n"
     ]
    }
   ],
   "source": [
    "from tensorflow.keras.preprocessing.image import ImageDataGenerator\n",
    "\n",
    "train_gen = ImageDataGenerator(rescale=1./255)\n",
    "test_gen = ImageDataGenerator(rescale=1./255)\n",
    "\n",
    "\n",
    "train_ds = train_gen.flow_from_directory(\n",
    "    './data/train/',\n",
    "    target_size = (150, 150),\n",
    "    batch_size = 20,\n",
    "    shuffle=True,\n",
    "    class_mode = 'binary'\n",
    ")\n",
    "\n",
    "test_ds = test_gen.flow_from_directory(\n",
    "    './data/test/',\n",
    "    target_size = (150, 150),\n",
    "    batch_size = 20,\n",
    "    shuffle=True,\n",
    "    class_mode = 'binary'\n",
    ")"
   ]
  },
  {
   "cell_type": "code",
   "execution_count": 9,
   "metadata": {},
   "outputs": [
    {
     "name": "stdout",
     "output_type": "stream",
     "text": [
      "Epoch 1/10\n",
      "184/184 [==============================] - 13s 72ms/step - loss: 0.6711 - accuracy: 0.5676 - val_loss: 0.6193 - val_accuracy: 0.6503\n",
      "Epoch 2/10\n",
      "184/184 [==============================] - 12s 68ms/step - loss: 0.6211 - accuracy: 0.6416 - val_loss: 0.5816 - val_accuracy: 0.7081\n",
      "Epoch 3/10\n",
      "184/184 [==============================] - 13s 71ms/step - loss: 0.5645 - accuracy: 0.7193 - val_loss: 0.5514 - val_accuracy: 0.7179\n",
      "Epoch 4/10\n",
      "184/184 [==============================] - 13s 69ms/step - loss: 0.5259 - accuracy: 0.7460 - val_loss: 0.5474 - val_accuracy: 0.7298\n",
      "Epoch 5/10\n",
      "184/184 [==============================] - 14s 74ms/step - loss: 0.5096 - accuracy: 0.7571 - val_loss: 0.5402 - val_accuracy: 0.7407\n",
      "Epoch 6/10\n",
      "184/184 [==============================] - 14s 76ms/step - loss: 0.4968 - accuracy: 0.7705 - val_loss: 0.5284 - val_accuracy: 0.7527\n",
      "Epoch 7/10\n",
      "184/184 [==============================] - 13s 73ms/step - loss: 0.4757 - accuracy: 0.7865 - val_loss: 0.5176 - val_accuracy: 0.7593\n",
      "Epoch 8/10\n",
      "184/184 [==============================] - 14s 78ms/step - loss: 0.4498 - accuracy: 0.8023 - val_loss: 0.5336 - val_accuracy: 0.7397\n",
      "Epoch 9/10\n",
      "184/184 [==============================] - 15s 79ms/step - loss: 0.4323 - accuracy: 0.8012 - val_loss: 0.5382 - val_accuracy: 0.7342\n",
      "Epoch 10/10\n",
      "184/184 [==============================] - 15s 83ms/step - loss: 0.3980 - accuracy: 0.8243 - val_loss: 0.5010 - val_accuracy: 0.7734\n"
     ]
    },
    {
     "data": {
      "text/plain": [
       "<keras.src.callbacks.History at 0x1757ebe80>"
      ]
     },
     "execution_count": 9,
     "metadata": {},
     "output_type": "execute_result"
    }
   ],
   "source": [
    "model.fit(\n",
    "    train_ds,\n",
    "    epochs=10,\n",
    "    validation_data=test_ds\n",
    ")\n"
   ]
  },
  {
   "cell_type": "code",
   "execution_count": 10,
   "metadata": {},
   "outputs": [
    {
     "name": "stdout",
     "output_type": "stream",
     "text": [
      "Found 3677 images belonging to 2 classes.\n",
      "Found 918 images belonging to 2 classes.\n"
     ]
    }
   ],
   "source": [
    "train_directory = r'./data/train/'\n",
    "test_directory = r'./data/test/'\n",
    "# Initialize ImageDataGenerator with rescaling and augmentation\n",
    "train_datagen = ImageDataGenerator(\n",
    "    rescale=1./255,\n",
    "    rotation_range=50,      # Random rotation in the range 0-50 degrees\n",
    "    width_shift_range=0.1,  # Random horizontal shifts up to 10% of total width\n",
    "    height_shift_range=0.1, # Random vertical shifts up to 10% of total height\n",
    "    zoom_range=0.1,         # Random zoom up to 10%\n",
    "    horizontal_flip=True,   # Random horizontal flip\n",
    "    fill_mode='nearest'     # Strategy for filling in newly created pixels after a rotation or shift\n",
    ")\n",
    "\n",
    "# Setup the training generator as before\n",
    "train_generator = train_datagen.flow_from_directory(\n",
    "    train_directory, # Specify your training directory path\n",
    "    target_size=(150, 150),\n",
    "    batch_size=20,\n",
    "    class_mode='binary',\n",
    "    shuffle=True\n",
    ")\n",
    "\n",
    "# Note: No augmentation is applied to the test data generator\n",
    "test_datagen = ImageDataGenerator(rescale=1./255)\n",
    "test_generator = test_datagen.flow_from_directory(\n",
    "    test_directory, # Specify your test directory path\n",
    "    target_size=(150, 150),\n",
    "    batch_size=20,\n",
    "    class_mode='binary',\n",
    "    shuffle=True\n",
    ")"
   ]
  },
  {
   "cell_type": "code",
   "execution_count": 11,
   "metadata": {},
   "outputs": [
    {
     "name": "stdout",
     "output_type": "stream",
     "text": [
      "Epoch 1/10\n",
      "184/184 [==============================] - 18s 98ms/step - loss: 0.5076 - accuracy: 0.7620 - val_loss: 0.4935 - val_accuracy: 0.7767\n",
      "Epoch 2/10\n",
      "184/184 [==============================] - 18s 99ms/step - loss: 0.4933 - accuracy: 0.7694 - val_loss: 0.4899 - val_accuracy: 0.7767\n",
      "Epoch 3/10\n",
      "184/184 [==============================] - 18s 98ms/step - loss: 0.4853 - accuracy: 0.7740 - val_loss: 0.4884 - val_accuracy: 0.7669\n",
      "Epoch 4/10\n",
      "184/184 [==============================] - 18s 99ms/step - loss: 0.4781 - accuracy: 0.7735 - val_loss: 0.4899 - val_accuracy: 0.7800\n",
      "Epoch 5/10\n",
      "184/184 [==============================] - 19s 101ms/step - loss: 0.4751 - accuracy: 0.7751 - val_loss: 0.4633 - val_accuracy: 0.7898\n",
      "Epoch 6/10\n",
      "184/184 [==============================] - 19s 103ms/step - loss: 0.4753 - accuracy: 0.7756 - val_loss: 0.4585 - val_accuracy: 0.7832\n",
      "Epoch 7/10\n",
      "184/184 [==============================] - 19s 103ms/step - loss: 0.4828 - accuracy: 0.7756 - val_loss: 0.4815 - val_accuracy: 0.7821\n",
      "Epoch 8/10\n",
      "184/184 [==============================] - 20s 110ms/step - loss: 0.4763 - accuracy: 0.7819 - val_loss: 0.4938 - val_accuracy: 0.7712\n",
      "Epoch 9/10\n",
      "184/184 [==============================] - 20s 107ms/step - loss: 0.4586 - accuracy: 0.7914 - val_loss: 0.4594 - val_accuracy: 0.7832\n",
      "Epoch 10/10\n",
      "184/184 [==============================] - 20s 107ms/step - loss: 0.4587 - accuracy: 0.7911 - val_loss: 0.4538 - val_accuracy: 0.7865\n"
     ]
    },
    {
     "data": {
      "text/plain": [
       "<keras.src.callbacks.History at 0x287d7ef50>"
      ]
     },
     "execution_count": 11,
     "metadata": {},
     "output_type": "execute_result"
    }
   ],
   "source": [
    "model.fit(\n",
    "    train_generator,\n",
    "    epochs=10,  # Train for an additional 10 epochs\n",
    "    validation_data=test_generator\n",
    ")"
   ]
  },
  {
   "cell_type": "code",
   "execution_count": null,
   "metadata": {},
   "outputs": [],
   "source": []
  }
 ],
 "metadata": {
  "kernelspec": {
   "display_name": "mlzoomcamp",
   "language": "python",
   "name": "python3"
  },
  "language_info": {
   "codemirror_mode": {
    "name": "ipython",
    "version": 3
   },
   "file_extension": ".py",
   "mimetype": "text/x-python",
   "name": "python",
   "nbconvert_exporter": "python",
   "pygments_lexer": "ipython3",
   "version": "3.10.13"
  }
 },
 "nbformat": 4,
 "nbformat_minor": 2
}
