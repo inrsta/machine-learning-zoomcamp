{
 "cells": [
  {
   "cell_type": "code",
   "execution_count": 86,
   "metadata": {},
   "outputs": [],
   "source": [
    "import pandas as pd\n",
    "import matplotlib.pyplot as plt\n",
    "import seaborn as sns\n",
    "import numpy as np"
   ]
  },
  {
   "cell_type": "code",
   "execution_count": 87,
   "metadata": {},
   "outputs": [
    {
     "name": "stdout",
     "output_type": "stream",
     "text": [
      "<class 'pandas.core.frame.DataFrame'>\n",
      "RangeIndex: 11914 entries, 0 to 11913\n",
      "Data columns (total 16 columns):\n",
      " #   Column             Non-Null Count  Dtype  \n",
      "---  ------             --------------  -----  \n",
      " 0   Make               11914 non-null  object \n",
      " 1   Model              11914 non-null  object \n",
      " 2   Year               11914 non-null  int64  \n",
      " 3   Engine Fuel Type   11911 non-null  object \n",
      " 4   Engine HP          11845 non-null  float64\n",
      " 5   Engine Cylinders   11884 non-null  float64\n",
      " 6   Transmission Type  11914 non-null  object \n",
      " 7   Driven_Wheels      11914 non-null  object \n",
      " 8   Number of Doors    11908 non-null  float64\n",
      " 9   Market Category    8172 non-null   object \n",
      " 10  Vehicle Size       11914 non-null  object \n",
      " 11  Vehicle Style      11914 non-null  object \n",
      " 12  highway MPG        11914 non-null  int64  \n",
      " 13  city mpg           11914 non-null  int64  \n",
      " 14  Popularity         11914 non-null  int64  \n",
      " 15  price              11914 non-null  int64  \n",
      "dtypes: float64(3), int64(5), object(8)\n",
      "memory usage: 1.5+ MB\n"
     ]
    }
   ],
   "source": [
    "cars_df = pd.read_csv(r'data/data.csv')\n",
    "\n",
    "# Renaming 'MSRP' column to 'price'\n",
    "cars_df = cars_df.rename(columns={\"MSRP\": \"price\"})\n",
    "\n",
    "cars_df.info()"
   ]
  },
  {
   "cell_type": "code",
   "execution_count": 88,
   "metadata": {},
   "outputs": [],
   "source": [
    "cars_df.columns = cars_df.columns.str.replace(' ', '_').str.lower()\n",
    "cars_df.fillna(0, inplace=True)\n",
    "cars_df.rename(columns={\"MSRP\": \"price\"}, inplace=True)"
   ]
  },
  {
   "cell_type": "code",
   "execution_count": 89,
   "metadata": {},
   "outputs": [
    {
     "name": "stdout",
     "output_type": "stream",
     "text": [
      "['make', 'model', 'transmission_type', 'vehicle_style']\n",
      "['year', 'engine_hp', 'engine_cylinders', 'highway_mpg', 'city_mpg']\n"
     ]
    }
   ],
   "source": [
    "useful_columns = [\"make\", 'model', 'year', 'engine_hp', 'engine_cylinders', 'transmission_type', 'vehicle_style', 'highway_mpg', 'city_mpg']\n",
    "\n",
    "categorical_columns = []\n",
    "numerical_columns = []\n",
    "\n",
    "for col in useful_columns:\n",
    "    if cars_df[col].dtype == 'object':\n",
    "        categorical_columns.append(col)\n",
    "    else:\n",
    "        numerical_columns.append(col)\n",
    "\n",
    "print(categorical_columns)\n",
    "print(numerical_columns)"
   ]
  },
  {
   "cell_type": "code",
   "execution_count": 90,
   "metadata": {},
   "outputs": [
    {
     "data": {
      "text/html": [
       "<div>\n",
       "<style scoped>\n",
       "    .dataframe tbody tr th:only-of-type {\n",
       "        vertical-align: middle;\n",
       "    }\n",
       "\n",
       "    .dataframe tbody tr th {\n",
       "        vertical-align: top;\n",
       "    }\n",
       "\n",
       "    .dataframe thead th {\n",
       "        text-align: right;\n",
       "    }\n",
       "</style>\n",
       "<table border=\"1\" class=\"dataframe\">\n",
       "  <thead>\n",
       "    <tr style=\"text-align: right;\">\n",
       "      <th></th>\n",
       "      <th>make</th>\n",
       "      <th>model</th>\n",
       "      <th>year</th>\n",
       "      <th>engine_fuel_type</th>\n",
       "      <th>engine_hp</th>\n",
       "      <th>engine_cylinders</th>\n",
       "      <th>transmission_type</th>\n",
       "      <th>driven_wheels</th>\n",
       "      <th>number_of_doors</th>\n",
       "      <th>market_category</th>\n",
       "      <th>vehicle_size</th>\n",
       "      <th>vehicle_style</th>\n",
       "      <th>highway_mpg</th>\n",
       "      <th>city_mpg</th>\n",
       "      <th>popularity</th>\n",
       "      <th>price</th>\n",
       "    </tr>\n",
       "  </thead>\n",
       "  <tbody>\n",
       "    <tr>\n",
       "      <th>0</th>\n",
       "      <td>Chevrolet</td>\n",
       "      <td>Silverado 1500</td>\n",
       "      <td>2015</td>\n",
       "      <td>regular unleaded</td>\n",
       "      <td>200.0</td>\n",
       "      <td>4.0</td>\n",
       "      <td>AUTOMATIC</td>\n",
       "      <td>front wheel drive</td>\n",
       "      <td>4.0</td>\n",
       "      <td>0</td>\n",
       "      <td>Compact</td>\n",
       "      <td>Sedan</td>\n",
       "      <td>24</td>\n",
       "      <td>17</td>\n",
       "      <td>1385</td>\n",
       "      <td>2000</td>\n",
       "    </tr>\n",
       "  </tbody>\n",
       "</table>\n",
       "</div>"
      ],
      "text/plain": [
       "        make           model  year  engine_fuel_type  engine_hp  \\\n",
       "0  Chevrolet  Silverado 1500  2015  regular unleaded      200.0   \n",
       "\n",
       "   engine_cylinders transmission_type      driven_wheels  number_of_doors  \\\n",
       "0               4.0         AUTOMATIC  front wheel drive              4.0   \n",
       "\n",
       "  market_category vehicle_size vehicle_style  highway_mpg  city_mpg  \\\n",
       "0               0      Compact         Sedan           24        17   \n",
       "\n",
       "   popularity  price  \n",
       "0        1385   2000  "
      ]
     },
     "execution_count": 90,
     "metadata": {},
     "output_type": "execute_result"
    }
   ],
   "source": [
    "cars_df.mode()"
   ]
  },
  {
   "cell_type": "code",
   "execution_count": 91,
   "metadata": {},
   "outputs": [],
   "source": [
    "def calc_above_average_price(df: pd.DataFrame) -> pd.DataFrame:\n",
    "    df['above_average'] = df['price'] > df['price'].mean()\n",
    "    return df\n",
    "\n",
    "cars_df = calc_above_average_price(cars_df)"
   ]
  },
  {
   "cell_type": "code",
   "execution_count": 92,
   "metadata": {},
   "outputs": [
    {
     "name": "stdout",
     "output_type": "stream",
     "text": [
      "<class 'pandas.core.frame.DataFrame'>\n",
      "RangeIndex: 11914 entries, 0 to 11913\n",
      "Data columns (total 17 columns):\n",
      " #   Column             Non-Null Count  Dtype  \n",
      "---  ------             --------------  -----  \n",
      " 0   make               11914 non-null  object \n",
      " 1   model              11914 non-null  object \n",
      " 2   year               11914 non-null  int64  \n",
      " 3   engine_fuel_type   11914 non-null  object \n",
      " 4   engine_hp          11914 non-null  float64\n",
      " 5   engine_cylinders   11914 non-null  float64\n",
      " 6   transmission_type  11914 non-null  object \n",
      " 7   driven_wheels      11914 non-null  object \n",
      " 8   number_of_doors    11914 non-null  float64\n",
      " 9   market_category    11914 non-null  object \n",
      " 10  vehicle_size       11914 non-null  object \n",
      " 11  vehicle_style      11914 non-null  object \n",
      " 12  highway_mpg        11914 non-null  int64  \n",
      " 13  city_mpg           11914 non-null  int64  \n",
      " 14  popularity         11914 non-null  int64  \n",
      " 15  price              11914 non-null  int64  \n",
      " 16  above_average      11914 non-null  bool   \n",
      "dtypes: bool(1), float64(3), int64(5), object(8)\n",
      "memory usage: 1.5+ MB\n"
     ]
    }
   ],
   "source": [
    "cars_df.info()"
   ]
  },
  {
   "cell_type": "code",
   "execution_count": 93,
   "metadata": {},
   "outputs": [
    {
     "data": {
      "text/html": [
       "<div>\n",
       "<style scoped>\n",
       "    .dataframe tbody tr th:only-of-type {\n",
       "        vertical-align: middle;\n",
       "    }\n",
       "\n",
       "    .dataframe tbody tr th {\n",
       "        vertical-align: top;\n",
       "    }\n",
       "\n",
       "    .dataframe thead th {\n",
       "        text-align: right;\n",
       "    }\n",
       "</style>\n",
       "<table border=\"1\" class=\"dataframe\">\n",
       "  <thead>\n",
       "    <tr style=\"text-align: right;\">\n",
       "      <th></th>\n",
       "      <th>year</th>\n",
       "      <th>engine_hp</th>\n",
       "      <th>engine_cylinders</th>\n",
       "      <th>highway_mpg</th>\n",
       "      <th>city_mpg</th>\n",
       "    </tr>\n",
       "  </thead>\n",
       "  <tbody>\n",
       "    <tr>\n",
       "      <th>year</th>\n",
       "      <td>1.000000</td>\n",
       "      <td>0.338714</td>\n",
       "      <td>-0.040708</td>\n",
       "      <td>0.258240</td>\n",
       "      <td>0.198171</td>\n",
       "    </tr>\n",
       "    <tr>\n",
       "      <th>engine_hp</th>\n",
       "      <td>0.338714</td>\n",
       "      <td>1.000000</td>\n",
       "      <td>0.774851</td>\n",
       "      <td>-0.415707</td>\n",
       "      <td>-0.424918</td>\n",
       "    </tr>\n",
       "    <tr>\n",
       "      <th>engine_cylinders</th>\n",
       "      <td>-0.040708</td>\n",
       "      <td>0.774851</td>\n",
       "      <td>1.000000</td>\n",
       "      <td>-0.614541</td>\n",
       "      <td>-0.587306</td>\n",
       "    </tr>\n",
       "    <tr>\n",
       "      <th>highway_mpg</th>\n",
       "      <td>0.258240</td>\n",
       "      <td>-0.415707</td>\n",
       "      <td>-0.614541</td>\n",
       "      <td>1.000000</td>\n",
       "      <td>0.886829</td>\n",
       "    </tr>\n",
       "    <tr>\n",
       "      <th>city_mpg</th>\n",
       "      <td>0.198171</td>\n",
       "      <td>-0.424918</td>\n",
       "      <td>-0.587306</td>\n",
       "      <td>0.886829</td>\n",
       "      <td>1.000000</td>\n",
       "    </tr>\n",
       "  </tbody>\n",
       "</table>\n",
       "</div>"
      ],
      "text/plain": [
       "                      year  engine_hp  engine_cylinders  highway_mpg  city_mpg\n",
       "year              1.000000   0.338714         -0.040708     0.258240  0.198171\n",
       "engine_hp         0.338714   1.000000          0.774851    -0.415707 -0.424918\n",
       "engine_cylinders -0.040708   0.774851          1.000000    -0.614541 -0.587306\n",
       "highway_mpg       0.258240  -0.415707         -0.614541     1.000000  0.886829\n",
       "city_mpg          0.198171  -0.424918         -0.587306     0.886829  1.000000"
      ]
     },
     "execution_count": 93,
     "metadata": {},
     "output_type": "execute_result"
    }
   ],
   "source": [
    "correlation_matrix = cars_df[numerical_columns].corr()\n",
    "correlation_matrix"
   ]
  },
  {
   "cell_type": "code",
   "execution_count": 94,
   "metadata": {},
   "outputs": [],
   "source": [
    "shuffled_data = cars_df.sample(frac=1, random_state=42)\n",
    "\n",
    "train_size = int(0.6 * len(shuffled_data))\n",
    "val_size = int(0.2 * len(shuffled_data))\n",
    "\n",
    "train_data = shuffled_data[:train_size]\n",
    "val_data = shuffled_data[train_size:train_size+val_size]\n",
    "test_data = shuffled_data[train_size+val_size:]\n",
    "\n",
    "y_train = train_data.above_average.values\n",
    "y_val = val_data.above_average.values\n",
    "y_test = test_data.above_average.values\n",
    "\n",
    "del train_data['above_average']\n",
    "del val_data['above_average']\n",
    "del test_data['above_average']"
   ]
  },
  {
   "cell_type": "code",
   "execution_count": 95,
   "metadata": {},
   "outputs": [
    {
     "name": "stdout",
     "output_type": "stream",
     "text": [
      "7148 2382 2384\n"
     ]
    }
   ],
   "source": [
    "print(len(train_data), len(val_data), len(test_data))"
   ]
  },
  {
   "cell_type": "code",
   "execution_count": 96,
   "metadata": {},
   "outputs": [
    {
     "name": "stdout",
     "output_type": "stream",
     "text": [
      "(7148, 9) (2382, 9) (2384, 9)\n"
     ]
    }
   ],
   "source": [
    "print(train_data[categorical_columns + numerical_columns].shape, val_data[categorical_columns + numerical_columns].shape, test_data[categorical_columns + numerical_columns].shape)"
   ]
  },
  {
   "cell_type": "code",
   "execution_count": 97,
   "metadata": {},
   "outputs": [
    {
     "data": {
      "text/plain": [
       "{'make': 0.24107355650518433,\n",
       " 'model': 0.46060863137526176,\n",
       " 'transmission_type': 0.01906153802385519,\n",
       " 'vehicle_style': 0.08209259666769804}"
      ]
     },
     "execution_count": 97,
     "metadata": {},
     "output_type": "execute_result"
    }
   ],
   "source": [
    "from sklearn.metrics import mutual_info_score\n",
    "\n",
    "mi_scores = {}\n",
    "\n",
    "for col in categorical_columns:\n",
    "    mi_scores[col] = mutual_info_score(train_data[col], y_train)\n",
    "\n",
    "mi_scores"
   ]
  },
  {
   "cell_type": "code",
   "execution_count": 98,
   "metadata": {},
   "outputs": [],
   "source": [
    "from sklearn.feature_extraction import DictVectorizer"
   ]
  },
  {
   "cell_type": "code",
   "execution_count": 99,
   "metadata": {},
   "outputs": [],
   "source": [
    "dv = DictVectorizer(sparse=False)\n",
    "\n",
    "train_dict = train_data[categorical_columns + numerical_columns].to_dict(orient='records')\n",
    "X_train = dv.fit_transform(train_dict)\n",
    "\n",
    "val_dict = val_data[categorical_columns + numerical_columns].to_dict(orient='records')\n",
    "X_val = dv.transform(val_dict)"
   ]
  },
  {
   "cell_type": "code",
   "execution_count": 100,
   "metadata": {},
   "outputs": [],
   "source": [
    "from sklearn.linear_model import LogisticRegression\n",
    "\n",
    "model = LogisticRegression(solver='liblinear', C=10, max_iter=1000, random_state=42)"
   ]
  },
  {
   "cell_type": "code",
   "execution_count": 101,
   "metadata": {},
   "outputs": [
    {
     "data": {
      "text/plain": [
       "LogisticRegression(C=10, max_iter=1000, random_state=42, solver='liblinear')"
      ]
     },
     "execution_count": 101,
     "metadata": {},
     "output_type": "execute_result"
    }
   ],
   "source": [
    "# Training the model\n",
    "\n",
    "model.fit(X_train, y_train)"
   ]
  },
  {
   "cell_type": "code",
   "execution_count": 102,
   "metadata": {},
   "outputs": [
    {
     "name": "stdout",
     "output_type": "stream",
     "text": [
      "0.92\n"
     ]
    }
   ],
   "source": [
    "# Calculate the accuracy in the validation dataset\n",
    "\n",
    "y_pred = model.predict(X_val)\n",
    "\n",
    "from sklearn.metrics import accuracy_score\n",
    "\n",
    "print(round(accuracy_score(y_val, y_pred), 2))\n",
    "accuracy = round(accuracy_score(y_val, y_pred), 2)\n"
   ]
  },
  {
   "cell_type": "code",
   "execution_count": 103,
   "metadata": {},
   "outputs": [
    {
     "name": "stdout",
     "output_type": "stream",
     "text": [
      "(7148, 8) (2382, 8) (2384, 8)\n"
     ]
    },
    {
     "name": "stdout",
     "output_type": "stream",
     "text": [
      "(7148, 8) (2382, 8) (2384, 8)\n",
      "(7148, 8) (2382, 8) (2384, 8)\n",
      "(7148, 8) (2382, 8) (2384, 8)\n",
      "(7148, 8) (2382, 8) (2384, 8)\n",
      "(7148, 8) (2382, 8) (2384, 8)\n",
      "(7148, 8) (2382, 8) (2384, 8)\n",
      "(7148, 8) (2382, 8) (2384, 8)\n",
      "(7148, 8) (2382, 8) (2384, 8)\n"
     ]
    }
   ],
   "source": [
    "all_features = categorical_columns + numerical_columns\n",
    "\n",
    "feature_importance = {}\n",
    "\n",
    "for c in all_features:\n",
    "    # Create a copy of train, val and test datasets withour the feature 'c'\n",
    "    c_train_data = train_data[all_features].drop(c, axis=1)\n",
    "    c_val_data = val_data[all_features].drop(c, axis=1)\n",
    "    c_test_data = test_data[all_features].drop(c, axis=1)\n",
    "\n",
    "    print(c_train_data.shape, c_val_data.shape, c_test_data.shape)\n",
    "\n",
    "    # Transform the datasets to dictionaries\n",
    "    c_train_dict = c_train_data.to_dict(orient='records')\n",
    "    c_val_dict = c_val_data.to_dict(orient='records')\n",
    "    c_test_dict = c_test_data.to_dict(orient='records')\n",
    "\n",
    "    # Transform the datasets to matrices\n",
    "    c_dv = DictVectorizer(sparse=False)\n",
    "    X_train_c = c_dv.fit_transform(c_train_dict)\n",
    "    X_val_c = c_dv.transform(c_val_dict)\n",
    "\n",
    "    # Create a model\n",
    "    model_c = LogisticRegression(solver='liblinear', C=10, max_iter=1000, random_state=42)\n",
    "\n",
    "    # Train the model\n",
    "    model_c.fit(X_train_c, y_train)\n",
    "\n",
    "    # Calculate the accuracy in the validation dataset\n",
    "    y_pred = model_c.predict(X_val_c)\n",
    "    acc = accuracy_score(y_val, y_pred)\n",
    "\n",
    "    # Calculate the difference between the accuracy with all features and the accuracy without the feature 'c'\n",
    "    feature_importance[c] = accuracy - acc\n",
    "\n"
   ]
  },
  {
   "cell_type": "code",
   "execution_count": 104,
   "metadata": {},
   "outputs": [],
   "source": [
    "# Sort the features by importance\n",
    "sorted_features = sorted(feature_importance, key=feature_importance.get)"
   ]
  },
  {
   "cell_type": "code",
   "execution_count": 105,
   "metadata": {},
   "outputs": [
    {
     "name": "stdout",
     "output_type": "stream",
     "text": [
      "year\n"
     ]
    }
   ],
   "source": [
    "least_useful_feature = sorted_features[0]\n",
    "print(least_useful_feature)"
   ]
  },
  {
   "cell_type": "code",
   "execution_count": 106,
   "metadata": {},
   "outputs": [
    {
     "data": {
      "text/plain": [
       "{0: 0.485, 0.01: 0.485, 0.1: 0.485, 1: 0.485, 10: 0.485}"
      ]
     },
     "execution_count": 106,
     "metadata": {},
     "output_type": "execute_result"
    }
   ],
   "source": [
    "# Price instead of above_average now\n",
    "import numpy as np\n",
    "from sklearn.linear_model import Ridge\n",
    "from sklearn.metrics import mean_squared_error\n",
    "\n",
    "y_train = np.log(train_data.price.values)\n",
    "y_val = np.log(val_data.price.values)\n",
    "y_test = np.log(test_data.price.values)\n",
    "\n",
    "del train_data['price']\n",
    "del val_data['price']\n",
    "del test_data['price']\n",
    "\n",
    "alpha = [0, 0.01, 0.1, 1, 10]\n",
    "\n",
    "rmse_scores = {}\n",
    "\n",
    "for a in alpha:\n",
    "    model = Ridge(alpha=a, solver='sag', random_state=42)\n",
    "    model.fit(X_train, y_train)\n",
    "    predictions = model.predict(X_val)\n",
    "    rmse = np.sqrt(mean_squared_error(y_val, predictions))\n",
    "    rmse_scores[a] = round(rmse, 3)\n",
    "\n",
    "rmse_scores\n",
    "\n"
   ]
  }
 ],
 "metadata": {
  "kernelspec": {
   "display_name": "ml-zoomcamp",
   "language": "python",
   "name": "python3"
  },
  "language_info": {
   "codemirror_mode": {
    "name": "ipython",
    "version": 3
   },
   "file_extension": ".py",
   "mimetype": "text/x-python",
   "name": "python",
   "nbconvert_exporter": "python",
   "pygments_lexer": "ipython3",
   "version": "3.7.11"
  },
  "orig_nbformat": 4
 },
 "nbformat": 4,
 "nbformat_minor": 2
}
