{
 "cells": [
  {
   "cell_type": "code",
   "execution_count": 36,
   "metadata": {},
   "outputs": [],
   "source": [
    "import pandas as pd\n",
    "import matplotlib.pyplot as plt\n",
    "import seaborn as sns\n",
    "import numpy as np"
   ]
  },
  {
   "cell_type": "code",
   "execution_count": 37,
   "metadata": {},
   "outputs": [
    {
     "name": "stdout",
     "output_type": "stream",
     "text": [
      "<class 'pandas.core.frame.DataFrame'>\n",
      "RangeIndex: 11914 entries, 0 to 11913\n",
      "Data columns (total 16 columns):\n",
      " #   Column             Non-Null Count  Dtype  \n",
      "---  ------             --------------  -----  \n",
      " 0   Make               11914 non-null  object \n",
      " 1   Model              11914 non-null  object \n",
      " 2   Year               11914 non-null  int64  \n",
      " 3   Engine Fuel Type   11911 non-null  object \n",
      " 4   Engine HP          11845 non-null  float64\n",
      " 5   Engine Cylinders   11884 non-null  float64\n",
      " 6   Transmission Type  11914 non-null  object \n",
      " 7   Driven_Wheels      11914 non-null  object \n",
      " 8   Number of Doors    11908 non-null  float64\n",
      " 9   Market Category    8172 non-null   object \n",
      " 10  Vehicle Size       11914 non-null  object \n",
      " 11  Vehicle Style      11914 non-null  object \n",
      " 12  highway MPG        11914 non-null  int64  \n",
      " 13  city mpg           11914 non-null  int64  \n",
      " 14  Popularity         11914 non-null  int64  \n",
      " 15  price              11914 non-null  int64  \n",
      "dtypes: float64(3), int64(5), object(8)\n",
      "memory usage: 1.5+ MB\n"
     ]
    }
   ],
   "source": [
    "cars_df = pd.read_csv(r'data/data.csv')\n",
    "\n",
    "# Renaming 'MSRP' column to 'price'\n",
    "cars_df = cars_df.rename(columns={\"MSRP\": \"price\"})\n",
    "\n",
    "cars_df.info()"
   ]
  },
  {
   "cell_type": "code",
   "execution_count": 38,
   "metadata": {},
   "outputs": [],
   "source": [
    "selected_columns = [\n",
    "    \"Make\", \"Model\", \"Year\", \"Engine HP\", \"Engine Cylinders\", \n",
    "    \"Transmission Type\", \"Vehicle Style\", \"highway MPG\", \"city mpg\"\n",
    "]\n",
    "cars_features = cars_df[selected_columns]"
   ]
  },
  {
   "cell_type": "code",
   "execution_count": 39,
   "metadata": {},
   "outputs": [
    {
     "name": "stdout",
     "output_type": "stream",
     "text": [
      "<class 'pandas.core.frame.DataFrame'>\n",
      "RangeIndex: 11914 entries, 0 to 11913\n",
      "Data columns (total 9 columns):\n",
      " #   Column             Non-Null Count  Dtype  \n",
      "---  ------             --------------  -----  \n",
      " 0   Make               11914 non-null  object \n",
      " 1   Model              11914 non-null  object \n",
      " 2   Year               11914 non-null  int64  \n",
      " 3   Engine HP          11845 non-null  float64\n",
      " 4   Engine Cylinders   11884 non-null  float64\n",
      " 5   Transmission Type  11914 non-null  object \n",
      " 6   Vehicle Style      11914 non-null  object \n",
      " 7   highway MPG        11914 non-null  int64  \n",
      " 8   city mpg           11914 non-null  int64  \n",
      "dtypes: float64(2), int64(3), object(4)\n",
      "memory usage: 837.8+ KB\n"
     ]
    }
   ],
   "source": [
    "cars_features.info()"
   ]
  },
  {
   "cell_type": "code",
   "execution_count": 33,
   "metadata": {},
   "outputs": [],
   "source": [
    "cars_features = cars_features.columns.str.replace(' ', '_').str.lower()"
   ]
  },
  {
   "cell_type": "code",
   "execution_count": 41,
   "metadata": {},
   "outputs": [
    {
     "name": "stderr",
     "output_type": "stream",
     "text": [
      "C:\\Users\\inris\\AppData\\Local\\Temp\\ipykernel_17988\\453819383.py:2: SettingWithCopyWarning: \n",
      "A value is trying to be set on a copy of a slice from a DataFrame\n",
      "\n",
      "See the caveats in the documentation: https://pandas.pydata.org/pandas-docs/stable/user_guide/indexing.html#returning-a-view-versus-a-copy\n",
      "  cars_features.fillna(0, inplace=True)\n"
     ]
    }
   ],
   "source": [
    "# Filling missing values with 0\n",
    "cars_features.fillna(0, inplace=True)\n"
   ]
  },
  {
   "cell_type": "code",
   "execution_count": 42,
   "metadata": {},
   "outputs": [
    {
     "name": "stdout",
     "output_type": "stream",
     "text": [
      "<class 'pandas.core.frame.DataFrame'>\n",
      "RangeIndex: 11914 entries, 0 to 11913\n",
      "Data columns (total 9 columns):\n",
      " #   Column             Non-Null Count  Dtype  \n",
      "---  ------             --------------  -----  \n",
      " 0   Make               11914 non-null  object \n",
      " 1   Model              11914 non-null  object \n",
      " 2   Year               11914 non-null  int64  \n",
      " 3   Engine HP          11914 non-null  float64\n",
      " 4   Engine Cylinders   11914 non-null  float64\n",
      " 5   Transmission Type  11914 non-null  object \n",
      " 6   Vehicle Style      11914 non-null  object \n",
      " 7   highway MPG        11914 non-null  int64  \n",
      " 8   city mpg           11914 non-null  int64  \n",
      "dtypes: float64(2), int64(3), object(4)\n",
      "memory usage: 837.8+ KB\n"
     ]
    }
   ],
   "source": [
    "cars_features.info()"
   ]
  },
  {
   "cell_type": "code",
   "execution_count": 43,
   "metadata": {},
   "outputs": [
    {
     "data": {
      "text/html": [
       "<div>\n",
       "<style scoped>\n",
       "    .dataframe tbody tr th:only-of-type {\n",
       "        vertical-align: middle;\n",
       "    }\n",
       "\n",
       "    .dataframe tbody tr th {\n",
       "        vertical-align: top;\n",
       "    }\n",
       "\n",
       "    .dataframe thead th {\n",
       "        text-align: right;\n",
       "    }\n",
       "</style>\n",
       "<table border=\"1\" class=\"dataframe\">\n",
       "  <thead>\n",
       "    <tr style=\"text-align: right;\">\n",
       "      <th></th>\n",
       "      <th>Make</th>\n",
       "      <th>Model</th>\n",
       "      <th>Year</th>\n",
       "      <th>Engine HP</th>\n",
       "      <th>Engine Cylinders</th>\n",
       "      <th>Transmission Type</th>\n",
       "      <th>Vehicle Style</th>\n",
       "      <th>highway MPG</th>\n",
       "      <th>city mpg</th>\n",
       "    </tr>\n",
       "  </thead>\n",
       "  <tbody>\n",
       "    <tr>\n",
       "      <th>0</th>\n",
       "      <td>Chevrolet</td>\n",
       "      <td>Silverado 1500</td>\n",
       "      <td>2015</td>\n",
       "      <td>200.0</td>\n",
       "      <td>4.0</td>\n",
       "      <td>AUTOMATIC</td>\n",
       "      <td>Sedan</td>\n",
       "      <td>24</td>\n",
       "      <td>17</td>\n",
       "    </tr>\n",
       "  </tbody>\n",
       "</table>\n",
       "</div>"
      ],
      "text/plain": [
       "        Make           Model  Year  Engine HP  Engine Cylinders  \\\n",
       "0  Chevrolet  Silverado 1500  2015      200.0               4.0   \n",
       "\n",
       "  Transmission Type Vehicle Style  highway MPG  city mpg  \n",
       "0         AUTOMATIC         Sedan           24        17  "
      ]
     },
     "execution_count": 43,
     "metadata": {},
     "output_type": "execute_result"
    }
   ],
   "source": [
    "cars_features.mode()"
   ]
  },
  {
   "cell_type": "code",
   "execution_count": 45,
   "metadata": {},
   "outputs": [
    {
     "data": {
      "text/html": [
       "<div>\n",
       "<style scoped>\n",
       "    .dataframe tbody tr th:only-of-type {\n",
       "        vertical-align: middle;\n",
       "    }\n",
       "\n",
       "    .dataframe tbody tr th {\n",
       "        vertical-align: top;\n",
       "    }\n",
       "\n",
       "    .dataframe thead th {\n",
       "        text-align: right;\n",
       "    }\n",
       "</style>\n",
       "<table border=\"1\" class=\"dataframe\">\n",
       "  <thead>\n",
       "    <tr style=\"text-align: right;\">\n",
       "      <th></th>\n",
       "      <th>Year</th>\n",
       "      <th>Engine HP</th>\n",
       "      <th>Engine Cylinders</th>\n",
       "      <th>highway MPG</th>\n",
       "      <th>city mpg</th>\n",
       "    </tr>\n",
       "  </thead>\n",
       "  <tbody>\n",
       "    <tr>\n",
       "      <th>Year</th>\n",
       "      <td>1.000000</td>\n",
       "      <td>0.338714</td>\n",
       "      <td>-0.040708</td>\n",
       "      <td>0.258240</td>\n",
       "      <td>0.198171</td>\n",
       "    </tr>\n",
       "    <tr>\n",
       "      <th>Engine HP</th>\n",
       "      <td>0.338714</td>\n",
       "      <td>1.000000</td>\n",
       "      <td>0.774851</td>\n",
       "      <td>-0.415707</td>\n",
       "      <td>-0.424918</td>\n",
       "    </tr>\n",
       "    <tr>\n",
       "      <th>Engine Cylinders</th>\n",
       "      <td>-0.040708</td>\n",
       "      <td>0.774851</td>\n",
       "      <td>1.000000</td>\n",
       "      <td>-0.614541</td>\n",
       "      <td>-0.587306</td>\n",
       "    </tr>\n",
       "    <tr>\n",
       "      <th>highway MPG</th>\n",
       "      <td>0.258240</td>\n",
       "      <td>-0.415707</td>\n",
       "      <td>-0.614541</td>\n",
       "      <td>1.000000</td>\n",
       "      <td>0.886829</td>\n",
       "    </tr>\n",
       "    <tr>\n",
       "      <th>city mpg</th>\n",
       "      <td>0.198171</td>\n",
       "      <td>-0.424918</td>\n",
       "      <td>-0.587306</td>\n",
       "      <td>0.886829</td>\n",
       "      <td>1.000000</td>\n",
       "    </tr>\n",
       "  </tbody>\n",
       "</table>\n",
       "</div>"
      ],
      "text/plain": [
       "                      Year  Engine HP  Engine Cylinders  highway MPG  city mpg\n",
       "Year              1.000000   0.338714         -0.040708     0.258240  0.198171\n",
       "Engine HP         0.338714   1.000000          0.774851    -0.415707 -0.424918\n",
       "Engine Cylinders -0.040708   0.774851          1.000000    -0.614541 -0.587306\n",
       "highway MPG       0.258240  -0.415707         -0.614541     1.000000  0.886829\n",
       "city mpg          0.198171  -0.424918         -0.587306     0.886829  1.000000"
      ]
     },
     "execution_count": 45,
     "metadata": {},
     "output_type": "execute_result"
    }
   ],
   "source": [
    "numeric_cols = cars_features.select_dtypes(include=[np.number])\n",
    "correlation_matrix = numeric_cols.corr()\n",
    "\n",
    "correlation_matrix"
   ]
  },
  {
   "cell_type": "code",
   "execution_count": null,
   "metadata": {},
   "outputs": [],
   "source": []
  }
 ],
 "metadata": {
  "kernelspec": {
   "display_name": "ml-zoomcamp",
   "language": "python",
   "name": "python3"
  },
  "language_info": {
   "codemirror_mode": {
    "name": "ipython",
    "version": 3
   },
   "file_extension": ".py",
   "mimetype": "text/x-python",
   "name": "python",
   "nbconvert_exporter": "python",
   "pygments_lexer": "ipython3",
   "version": "3.9.18"
  },
  "orig_nbformat": 4
 },
 "nbformat": 4,
 "nbformat_minor": 2
}
