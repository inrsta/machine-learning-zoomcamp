{
 "cells": [
  {
   "cell_type": "code",
   "execution_count": 89,
   "metadata": {},
   "outputs": [
    {
     "name": "stderr",
     "output_type": "stream",
     "text": [
      "WARNING:absl:At this time, the v2.11+ optimizer `tf.keras.optimizers.SGD` runs slowly on M1/M2 Macs, please use the legacy Keras optimizer instead, located at `tf.keras.optimizers.legacy.SGD`.\n"
     ]
    },
    {
     "name": "stdout",
     "output_type": "stream",
     "text": [
      "INFO:tensorflow:Assets written to: /var/folders/22/4rkd_km14n587vm5mk020x800000gq/T/tmprvoc581x/assets\n"
     ]
    },
    {
     "name": "stderr",
     "output_type": "stream",
     "text": [
      "INFO:tensorflow:Assets written to: /var/folders/22/4rkd_km14n587vm5mk020x800000gq/T/tmprvoc581x/assets\n",
      "WARNING:absl:At this time, the v2.11+ optimizer `tf.keras.optimizers.RestoredOptimizer` runs slowly on M1/M2 Macs, please use the legacy Keras optimizer instead, located at `tf.keras.optimizers.legacy.RestoredOptimizer`.\n",
      "2023-11-24 19:02:32.543651: W tensorflow/compiler/mlir/lite/python/tf_tfl_flatbuffer_helpers.cc:378] Ignored output_format.\n",
      "2023-11-24 19:02:32.543662: W tensorflow/compiler/mlir/lite/python/tf_tfl_flatbuffer_helpers.cc:381] Ignored drop_control_dependency.\n",
      "2023-11-24 19:02:32.543779: I tensorflow/cc/saved_model/reader.cc:83] Reading SavedModel from: /var/folders/22/4rkd_km14n587vm5mk020x800000gq/T/tmprvoc581x\n",
      "2023-11-24 19:02:32.544417: I tensorflow/cc/saved_model/reader.cc:51] Reading meta graph with tags { serve }\n",
      "2023-11-24 19:02:32.544422: I tensorflow/cc/saved_model/reader.cc:146] Reading SavedModel debug info (if present) from: /var/folders/22/4rkd_km14n587vm5mk020x800000gq/T/tmprvoc581x\n",
      "2023-11-24 19:02:32.546072: I tensorflow/cc/saved_model/loader.cc:233] Restoring SavedModel bundle.\n",
      "2023-11-24 19:02:32.661790: I tensorflow/cc/saved_model/loader.cc:217] Running initialization op on SavedModel bundle at path: /var/folders/22/4rkd_km14n587vm5mk020x800000gq/T/tmprvoc581x\n",
      "2023-11-24 19:02:32.668901: I tensorflow/cc/saved_model/loader.cc:316] SavedModel load for tags { serve }; Status: success: OK. Took 125122 microseconds.\n",
      "Summary on the non-converted ops:\n",
      "---------------------------------\n",
      " * Accepted dialects: tfl, builtin, func\n",
      " * Non-Converted Ops: 7, Total Ops 16, % non-converted = 43.75 %\n",
      " * 7 ARITH ops\n",
      "\n",
      "- arith.constant:    7 occurrences  (f32: 6, i32: 1)\n",
      "\n",
      "\n",
      "\n",
      "  (f32: 1)\n",
      "  (f32: 2)\n",
      "  (f32: 1)\n",
      "  (f32: 1)\n",
      "  (f32: 1)\n"
     ]
    }
   ],
   "source": [
    "import tensorflow as tf\n",
    "\n",
    "# Load the Keras model\n",
    "keras_model = tf.keras.models.load_model('bees-wasps.h5')\n",
    "\n",
    "# Convert the model\n",
    "converter = tf.lite.TFLiteConverter.from_keras_model(keras_model)\n",
    "tflite_model = converter.convert()\n",
    "\n",
    "# Save the model.\n",
    "with open('model.tflite', 'wb') as f:\n",
    "    f.write(tflite_model)\n"
   ]
  },
  {
   "cell_type": "code",
   "execution_count": 90,
   "metadata": {},
   "outputs": [],
   "source": [
    "# # Load the TFLite model and allocate tensors.\n",
    "# interpreter = tf.lite.Interpreter(model_path=\"model.tflite\")\n",
    "# interpreter.allocate_tensors()\n",
    "\n",
    "# # Get output details\n",
    "# output_details = interpreter.get_output_details()\n",
    "\n",
    "# # Print the index of each output\n",
    "# for output in output_details:\n",
    "#     print(output['index'])"
   ]
  },
  {
   "cell_type": "code",
   "execution_count": 91,
   "metadata": {},
   "outputs": [],
   "source": [
    "from io import BytesIO\n",
    "from urllib import request\n",
    "\n",
    "from PIL import Image\n",
    "\n",
    "def download_image(url):\n",
    "    with request.urlopen(url) as resp:\n",
    "        buffer = resp.read()\n",
    "    stream = BytesIO(buffer)\n",
    "    img = Image.open(stream)\n",
    "    return img\n",
    "\n",
    "\n",
    "def prepare_image(img, target_size):\n",
    "    if img.mode != 'RGB':\n",
    "        img = img.convert('RGB')\n",
    "    img = img.resize(target_size, Image.NEAREST)\n",
    "    return img"
   ]
  },
  {
   "cell_type": "code",
   "execution_count": 92,
   "metadata": {},
   "outputs": [],
   "source": [
    "img = Image.open('/Users/inristaka/dev/machine-learning-zoomcamp/cohorts/2023/09-serverless/rtd9dhsmhwrdezeldzoqgijdg8a.jpeg')"
   ]
  },
  {
   "cell_type": "code",
   "execution_count": 93,
   "metadata": {},
   "outputs": [
    {
     "name": "stdout",
     "output_type": "stream",
     "text": [
      "(150, 150)\n"
     ]
    }
   ],
   "source": [
    "img = img.resize([150,150], Image.NEAREST)\n",
    "print(img.size)"
   ]
  },
  {
   "cell_type": "code",
   "execution_count": 94,
   "metadata": {},
   "outputs": [],
   "source": [
    "import numpy as np"
   ]
  },
  {
   "cell_type": "code",
   "execution_count": 95,
   "metadata": {},
   "outputs": [],
   "source": [
    "def preprocess_input(x):\n",
    "    x /= 127.5\n",
    "    x -= 1.\n",
    "    return x\n",
    "x = np.array(img, dtype='float32')\n",
    "X = np.array([x])\n",
    "\n",
    "X = preprocess_input(X)"
   ]
  },
  {
   "cell_type": "code",
   "execution_count": 96,
   "metadata": {},
   "outputs": [
    {
     "data": {
      "text/plain": [
       "array([[[[ 0.8901961 ,  0.81960785,  0.7019608 ],\n",
       "         [ 0.8745098 ,  0.84313726,  0.9529412 ],\n",
       "         [ 0.827451  ,  0.79607844,  0.9137255 ],\n",
       "         ...,\n",
       "         [-0.41960782, -0.3333333 , -0.67058825],\n",
       "         [-0.30196077, -0.18431371, -0.69411767],\n",
       "         [-0.40392154, -0.27843136, -0.7647059 ]],\n",
       "\n",
       "        [[ 0.8980392 ,  0.81960785,  0.7254902 ],\n",
       "         [ 0.8352941 ,  0.81960785,  0.92156863],\n",
       "         [ 0.8039216 ,  0.7882353 ,  0.8980392 ],\n",
       "         ...,\n",
       "         [-0.45098037, -0.32549018, -0.6784314 ],\n",
       "         [-0.0745098 ,  0.01176476, -0.60784316],\n",
       "         [-0.09803921, -0.01176471, -0.6313726 ]],\n",
       "\n",
       "        [[ 0.85882354,  0.7647059 ,  0.6392157 ],\n",
       "         [ 0.827451  ,  0.81960785,  0.92941177],\n",
       "         [ 0.8117647 ,  0.7882353 ,  0.92156863],\n",
       "         ...,\n",
       "         [-0.35686272, -0.24705881, -0.64705884],\n",
       "         [-0.00392157,  0.05882359, -0.5921569 ],\n",
       "         [-0.1372549 , -0.06666666, -0.5764706 ]],\n",
       "\n",
       "        ...,\n",
       "\n",
       "        [[-0.9372549 , -0.8666667 , -0.90588236],\n",
       "         [-0.9529412 , -0.827451  , -0.90588236],\n",
       "         [-0.8352941 , -0.8352941 , -0.8352941 ],\n",
       "         ...,\n",
       "         [-0.11372548, -0.27843136, -0.9137255 ],\n",
       "         [-0.67058825, -0.6392157 , -0.77254903],\n",
       "         [-0.7647059 , -0.6862745 , -0.77254903]],\n",
       "\n",
       "        [[-0.9372549 , -0.8666667 , -0.90588236],\n",
       "         [-0.84313726, -0.7647059 , -0.827451  ],\n",
       "         [-0.8901961 , -0.8039216 , -0.8352941 ],\n",
       "         ...,\n",
       "         [-0.34117645, -0.46666664, -0.8666667 ],\n",
       "         [-0.75686276, -0.73333335, -0.8039216 ],\n",
       "         [-0.8117647 , -0.77254903, -0.81960785]],\n",
       "\n",
       "        [[-0.9607843 , -0.92156863, -0.9529412 ],\n",
       "         [-0.827451  , -0.77254903, -0.8352941 ],\n",
       "         [-0.79607844, -0.75686276, -0.8117647 ],\n",
       "         ...,\n",
       "         [-0.6627451 , -0.654902  , -0.79607844],\n",
       "         [-0.73333335, -0.6862745 , -0.7647059 ],\n",
       "         [-0.8039216 , -0.7647059 , -0.81960785]]]], dtype=float32)"
      ]
     },
     "execution_count": 96,
     "metadata": {},
     "output_type": "execute_result"
    }
   ],
   "source": [
    "X"
   ]
  },
  {
   "cell_type": "code",
   "execution_count": 97,
   "metadata": {},
   "outputs": [],
   "source": [
    "import tensorflow.lite as tflite"
   ]
  },
  {
   "cell_type": "code",
   "execution_count": 98,
   "metadata": {},
   "outputs": [],
   "source": [
    "interpreter = tflite.Interpreter(model_path='model.tflite')\n",
    "interpreter.allocate_tensors()\n",
    "\n",
    "input_index = interpreter.get_input_details()[0]['index']\n",
    "output_index = interpreter.get_output_details()[0]['index']"
   ]
  },
  {
   "cell_type": "code",
   "execution_count": 99,
   "metadata": {},
   "outputs": [],
   "source": [
    "interpreter.set_tensor(input_index, X)\n",
    "interpreter.invoke()\n",
    "preds = interpreter.get_tensor(output_index)"
   ]
  },
  {
   "cell_type": "code",
   "execution_count": 104,
   "metadata": {},
   "outputs": [
    {
     "data": {
      "text/plain": [
       "array([[0.14101043]], dtype=float32)"
      ]
     },
     "execution_count": 104,
     "metadata": {},
     "output_type": "execute_result"
    }
   ],
   "source": [
    "preds"
   ]
  },
  {
   "cell_type": "code",
   "execution_count": 105,
   "metadata": {},
   "outputs": [
    {
     "data": {
      "text/plain": [
       "{'bees': 0.14101043}"
      ]
     },
     "execution_count": 105,
     "metadata": {},
     "output_type": "execute_result"
    }
   ],
   "source": [
    "classes = [\n",
    "    'bees',\n",
    "    'wasps'\n",
    "]\n",
    "\n",
    "dict(zip(classes, preds[0]))"
   ]
  },
  {
   "cell_type": "code",
   "execution_count": null,
   "metadata": {},
   "outputs": [],
   "source": []
  }
 ],
 "metadata": {
  "kernelspec": {
   "display_name": "mlzoomcamp",
   "language": "python",
   "name": "python3"
  },
  "language_info": {
   "codemirror_mode": {
    "name": "ipython",
    "version": 3
   },
   "file_extension": ".py",
   "mimetype": "text/x-python",
   "name": "python",
   "nbconvert_exporter": "python",
   "pygments_lexer": "ipython3",
   "version": "3.10.13"
  }
 },
 "nbformat": 4,
 "nbformat_minor": 2
}
