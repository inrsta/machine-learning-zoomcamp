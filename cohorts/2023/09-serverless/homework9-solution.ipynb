{
 "cells": [
  {
   "cell_type": "code",
   "execution_count": 19,
   "metadata": {},
   "outputs": [
    {
     "name": "stderr",
     "output_type": "stream",
     "text": [
      "WARNING:absl:At this time, the v2.11+ optimizer `tf.keras.optimizers.SGD` runs slowly on M1/M2 Macs, please use the legacy Keras optimizer instead, located at `tf.keras.optimizers.legacy.SGD`.\n"
     ]
    },
    {
     "name": "stdout",
     "output_type": "stream",
     "text": [
      "INFO:tensorflow:Assets written to: /var/folders/22/4rkd_km14n587vm5mk020x800000gq/T/tmpsfizcto1/assets\n"
     ]
    },
    {
     "name": "stderr",
     "output_type": "stream",
     "text": [
      "INFO:tensorflow:Assets written to: /var/folders/22/4rkd_km14n587vm5mk020x800000gq/T/tmpsfizcto1/assets\n",
      "WARNING:absl:At this time, the v2.11+ optimizer `tf.keras.optimizers.RestoredOptimizer` runs slowly on M1/M2 Macs, please use the legacy Keras optimizer instead, located at `tf.keras.optimizers.legacy.RestoredOptimizer`.\n",
      "2023-11-29 18:46:04.680576: W tensorflow/compiler/mlir/lite/python/tf_tfl_flatbuffer_helpers.cc:378] Ignored output_format.\n",
      "2023-11-29 18:46:04.680586: W tensorflow/compiler/mlir/lite/python/tf_tfl_flatbuffer_helpers.cc:381] Ignored drop_control_dependency.\n",
      "2023-11-29 18:46:04.680691: I tensorflow/cc/saved_model/reader.cc:83] Reading SavedModel from: /var/folders/22/4rkd_km14n587vm5mk020x800000gq/T/tmpsfizcto1\n",
      "2023-11-29 18:46:04.681295: I tensorflow/cc/saved_model/reader.cc:51] Reading meta graph with tags { serve }\n",
      "2023-11-29 18:46:04.681299: I tensorflow/cc/saved_model/reader.cc:146] Reading SavedModel debug info (if present) from: /var/folders/22/4rkd_km14n587vm5mk020x800000gq/T/tmpsfizcto1\n",
      "2023-11-29 18:46:04.682736: I tensorflow/cc/saved_model/loader.cc:233] Restoring SavedModel bundle.\n",
      "2023-11-29 18:46:04.788754: I tensorflow/cc/saved_model/loader.cc:217] Running initialization op on SavedModel bundle at path: /var/folders/22/4rkd_km14n587vm5mk020x800000gq/T/tmpsfizcto1\n",
      "2023-11-29 18:46:04.795614: I tensorflow/cc/saved_model/loader.cc:316] SavedModel load for tags { serve }; Status: success: OK. Took 114923 microseconds.\n",
      "Summary on the non-converted ops:\n",
      "---------------------------------\n",
      " * Accepted dialects: tfl, builtin, func\n",
      " * Non-Converted Ops: 7, Total Ops 16, % non-converted = 43.75 %\n",
      " * 7 ARITH ops\n",
      "\n",
      "- arith.constant:    7 occurrences  (f32: 6, i32: 1)\n",
      "\n",
      "\n",
      "\n",
      "  (f32: 1)\n",
      "  (f32: 2)\n",
      "  (f32: 1)\n",
      "  (f32: 1)\n",
      "  (f32: 1)\n"
     ]
    }
   ],
   "source": [
    "import tensorflow as tf\n",
    "\n",
    "# Load the Keras model\n",
    "keras_model = tf.keras.models.load_model('bees-wasps.h5')\n",
    "\n",
    "# Convert the model\n",
    "converter = tf.lite.TFLiteConverter.from_keras_model(keras_model)\n",
    "tflite_model = converter.convert()\n",
    "\n",
    "# Save the model.\n",
    "with open('model.tflite', 'wb') as f:\n",
    "    f.write(tflite_model)\n"
   ]
  },
  {
   "cell_type": "code",
   "execution_count": 20,
   "metadata": {},
   "outputs": [],
   "source": [
    "# # Load the TFLite model and allocate tensors.\n",
    "# interpreter = tf.lite.Interpreter(model_path=\"model.tflite\")\n",
    "# interpreter.allocate_tensors()\n",
    "\n",
    "# # Get output details\n",
    "# output_details = interpreter.get_output_details()\n",
    "\n",
    "# # Print the index of each output\n",
    "# for output in output_details:\n",
    "#     print(output['index'])"
   ]
  },
  {
   "cell_type": "code",
   "execution_count": 21,
   "metadata": {},
   "outputs": [],
   "source": [
    "from io import BytesIO\n",
    "from urllib import request\n",
    "\n",
    "from PIL import Image\n",
    "\n",
    "def download_image(url):\n",
    "    with request.urlopen(url) as resp:\n",
    "        buffer = resp.read()\n",
    "    stream = BytesIO(buffer)\n",
    "    img = Image.open(stream)\n",
    "    return img\n",
    "\n",
    "\n",
    "def prepare_image(img, target_size):\n",
    "    if img.mode != 'RGB':\n",
    "        img = img.convert('RGB')\n",
    "    img = img.resize(target_size, Image.NEAREST)\n",
    "    return img"
   ]
  },
  {
   "cell_type": "code",
   "execution_count": 22,
   "metadata": {},
   "outputs": [],
   "source": [
    "img = Image.open('/Users/inristaka/dev/machine-learning-zoomcamp/cohorts/2023/09-serverless/rtd9dhsmhwrdezeldzoqgijdg8a.jpeg')"
   ]
  },
  {
   "cell_type": "code",
   "execution_count": 23,
   "metadata": {},
   "outputs": [
    {
     "name": "stdout",
     "output_type": "stream",
     "text": [
      "(150, 150)\n"
     ]
    }
   ],
   "source": [
    "img = img.resize([150,150], Image.NEAREST)\n",
    "print(img.size)"
   ]
  },
  {
   "cell_type": "code",
   "execution_count": 24,
   "metadata": {},
   "outputs": [],
   "source": [
    "import numpy as np"
   ]
  },
  {
   "cell_type": "code",
   "execution_count": 25,
   "metadata": {},
   "outputs": [],
   "source": [
    "def preprocess_input(x):\n",
    "    x /= 255.\n",
    "    return x\n",
    "x = np.array(img, dtype='float32')\n",
    "X = np.array([x])\n",
    "\n",
    "X = preprocess_input(X)"
   ]
  },
  {
   "cell_type": "code",
   "execution_count": 26,
   "metadata": {},
   "outputs": [
    {
     "data": {
      "text/plain": [
       "array([[[[0.94509804, 0.9098039 , 0.8509804 ],\n",
       "         [0.9372549 , 0.92156863, 0.9764706 ],\n",
       "         [0.9137255 , 0.8980392 , 0.95686275],\n",
       "         ...,\n",
       "         [0.2901961 , 0.33333334, 0.16470589],\n",
       "         [0.34901962, 0.40784314, 0.15294118],\n",
       "         [0.29803923, 0.36078432, 0.11764706]],\n",
       "\n",
       "        [[0.9490196 , 0.9098039 , 0.8627451 ],\n",
       "         [0.91764706, 0.9098039 , 0.9607843 ],\n",
       "         [0.9019608 , 0.89411765, 0.9490196 ],\n",
       "         ...,\n",
       "         [0.27450982, 0.3372549 , 0.16078432],\n",
       "         [0.4627451 , 0.5058824 , 0.19607843],\n",
       "         [0.4509804 , 0.49411765, 0.18431373]],\n",
       "\n",
       "        [[0.92941177, 0.88235295, 0.81960785],\n",
       "         [0.9137255 , 0.9098039 , 0.9647059 ],\n",
       "         [0.90588236, 0.89411765, 0.9607843 ],\n",
       "         ...,\n",
       "         [0.32156864, 0.3764706 , 0.1764706 ],\n",
       "         [0.49803922, 0.5294118 , 0.20392157],\n",
       "         [0.43137255, 0.46666667, 0.21176471]],\n",
       "\n",
       "        ...,\n",
       "\n",
       "        [[0.03137255, 0.06666667, 0.04705882],\n",
       "         [0.02352941, 0.08627451, 0.04705882],\n",
       "         [0.08235294, 0.08235294, 0.08235294],\n",
       "         ...,\n",
       "         [0.44313726, 0.36078432, 0.04313726],\n",
       "         [0.16470589, 0.18039216, 0.11372549],\n",
       "         [0.11764706, 0.15686275, 0.11372549]],\n",
       "\n",
       "        [[0.03137255, 0.06666667, 0.04705882],\n",
       "         [0.07843138, 0.11764706, 0.08627451],\n",
       "         [0.05490196, 0.09803922, 0.08235294],\n",
       "         ...,\n",
       "         [0.32941177, 0.26666668, 0.06666667],\n",
       "         [0.12156863, 0.13333334, 0.09803922],\n",
       "         [0.09411765, 0.11372549, 0.09019608]],\n",
       "\n",
       "        [[0.01960784, 0.03921569, 0.02352941],\n",
       "         [0.08627451, 0.11372549, 0.08235294],\n",
       "         [0.10196079, 0.12156863, 0.09411765],\n",
       "         ...,\n",
       "         [0.16862746, 0.17254902, 0.10196079],\n",
       "         [0.13333334, 0.15686275, 0.11764706],\n",
       "         [0.09803922, 0.11764706, 0.09019608]]]], dtype=float32)"
      ]
     },
     "execution_count": 26,
     "metadata": {},
     "output_type": "execute_result"
    }
   ],
   "source": [
    "X"
   ]
  },
  {
   "cell_type": "code",
   "execution_count": null,
   "metadata": {},
   "outputs": [],
   "source": []
  },
  {
   "cell_type": "code",
   "execution_count": 27,
   "metadata": {},
   "outputs": [],
   "source": [
    "import tensorflow.lite as tflite"
   ]
  },
  {
   "cell_type": "code",
   "execution_count": 28,
   "metadata": {},
   "outputs": [
    {
     "name": "stderr",
     "output_type": "stream",
     "text": [
      "INFO: Created TensorFlow Lite XNNPACK delegate for CPU.\n"
     ]
    }
   ],
   "source": [
    "interpreter = tflite.Interpreter(model_path='model.tflite')\n",
    "interpreter.allocate_tensors()\n",
    "\n",
    "input_index = interpreter.get_input_details()[0]['index']\n",
    "output_index = interpreter.get_output_details()[0]['index']"
   ]
  },
  {
   "cell_type": "code",
   "execution_count": 29,
   "metadata": {},
   "outputs": [],
   "source": [
    "interpreter.set_tensor(input_index, X)\n",
    "interpreter.invoke()\n",
    "preds = interpreter.get_tensor(output_index)"
   ]
  },
  {
   "cell_type": "code",
   "execution_count": 30,
   "metadata": {},
   "outputs": [
    {
     "data": {
      "text/plain": [
       "array([[0.65921456]], dtype=float32)"
      ]
     },
     "execution_count": 30,
     "metadata": {},
     "output_type": "execute_result"
    }
   ],
   "source": [
    "preds"
   ]
  },
  {
   "cell_type": "code",
   "execution_count": 31,
   "metadata": {},
   "outputs": [
    {
     "data": {
      "text/plain": [
       "{'bees': 0.65921456}"
      ]
     },
     "execution_count": 31,
     "metadata": {},
     "output_type": "execute_result"
    }
   ],
   "source": [
    "classes = [\n",
    "    'bees',\n",
    "    'wasps'\n",
    "]\n",
    "\n",
    "dict(zip(classes, preds[0]))"
   ]
  },
  {
   "cell_type": "code",
   "execution_count": null,
   "metadata": {},
   "outputs": [],
   "source": []
  }
 ],
 "metadata": {
  "kernelspec": {
   "display_name": "mlzoomcamp",
   "language": "python",
   "name": "python3"
  },
  "language_info": {
   "codemirror_mode": {
    "name": "ipython",
    "version": 3
   },
   "file_extension": ".py",
   "mimetype": "text/x-python",
   "name": "python",
   "nbconvert_exporter": "python",
   "pygments_lexer": "ipython3",
   "version": "3.10.13"
  }
 },
 "nbformat": 4,
 "nbformat_minor": 2
}
